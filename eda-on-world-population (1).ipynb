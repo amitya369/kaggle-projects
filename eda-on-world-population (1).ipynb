{
 "cells": [
  {
   "cell_type": "code",
   "execution_count": 1,
   "id": "f3527aa8",
   "metadata": {
    "_cell_guid": "b1076dfc-b9ad-4769-8c92-a6c4dae69d19",
    "_uuid": "8f2839f25d086af736a60e9eeb907d3b93b6e0e5",
    "execution": {
     "iopub.execute_input": "2024-07-06T13:03:14.914418Z",
     "iopub.status.busy": "2024-07-06T13:03:14.914016Z",
     "iopub.status.idle": "2024-07-06T13:03:15.970103Z",
     "shell.execute_reply": "2024-07-06T13:03:15.968839Z"
    },
    "papermill": {
     "duration": 1.065837,
     "end_time": "2024-07-06T13:03:15.973318",
     "exception": false,
     "start_time": "2024-07-06T13:03:14.907481",
     "status": "completed"
    },
    "tags": []
   },
   "outputs": [
    {
     "name": "stdout",
     "output_type": "stream",
     "text": [
      "/kaggle/input/world-population-by-country-2024/World Population by country 2024.csv\n"
     ]
    }
   ],
   "source": [
    "# This Python 3 environment comes with many helpful analytics libraries installed\n",
    "# It is defined by the kaggle/python Docker image: https://github.com/kaggle/docker-python\n",
    "# For example, here's several helpful packages to load\n",
    "\n",
    "import numpy as np # linear algebra\n",
    "import pandas as pd # data processing, CSV file I/O (e.g. pd.read_csv)\n",
    "\n",
    "# Input data files are available in the read-only \"../input/\" directory\n",
    "# For example, running this (by clicking run or pressing Shift+Enter) will list all files under the input directory\n",
    "\n",
    "import os\n",
    "for dirname, _, filenames in os.walk('/kaggle/input'):\n",
    "    for filename in filenames:\n",
    "        print(os.path.join(dirname, filename))\n",
    "\n",
    "# You can write up to 20GB to the current directory (/kaggle/working/) that gets preserved as output when you create a version using \"Save & Run All\" \n",
    "# You can also write temporary files to /kaggle/temp/, but they won't be saved outside of the current session"
   ]
  },
  {
   "cell_type": "code",
   "execution_count": 2,
   "id": "e8589a09",
   "metadata": {
    "execution": {
     "iopub.execute_input": "2024-07-06T13:03:15.984831Z",
     "iopub.status.busy": "2024-07-06T13:03:15.984233Z",
     "iopub.status.idle": "2024-07-06T13:03:19.229491Z",
     "shell.execute_reply": "2024-07-06T13:03:19.228113Z"
    },
    "papermill": {
     "duration": 3.254304,
     "end_time": "2024-07-06T13:03:19.232486",
     "exception": false,
     "start_time": "2024-07-06T13:03:15.978182",
     "status": "completed"
    },
    "tags": []
   },
   "outputs": [],
   "source": [
    "import matplotlib.pyplot as plt \n",
    "import seaborn as sns \n",
    "import folium \n",
    "import plotly.express as px\n",
    "from folium.plugins import MarkerCluster \n",
    "from geopy.geocoders import Nominatim\n",
    "from geopy.extra.rate_limiter import RateLimiter \n",
    "import time \n"
   ]
  },
  {
   "cell_type": "code",
   "execution_count": 3,
   "id": "b8736a2f",
   "metadata": {
    "execution": {
     "iopub.execute_input": "2024-07-06T13:03:19.244553Z",
     "iopub.status.busy": "2024-07-06T13:03:19.243497Z",
     "iopub.status.idle": "2024-07-06T13:03:19.266334Z",
     "shell.execute_reply": "2024-07-06T13:03:19.265120Z"
    },
    "papermill": {
     "duration": 0.031979,
     "end_time": "2024-07-06T13:03:19.269295",
     "exception": false,
     "start_time": "2024-07-06T13:03:19.237316",
     "status": "completed"
    },
    "tags": []
   },
   "outputs": [],
   "source": [
    "df = pd.read_csv(\"/kaggle/input/world-population-by-country-2024/World Population by country 2024.csv\")"
   ]
  },
  {
   "cell_type": "code",
   "execution_count": 4,
   "id": "d4402573",
   "metadata": {
    "execution": {
     "iopub.execute_input": "2024-07-06T13:03:19.280486Z",
     "iopub.status.busy": "2024-07-06T13:03:19.280051Z",
     "iopub.status.idle": "2024-07-06T13:03:19.311576Z",
     "shell.execute_reply": "2024-07-06T13:03:19.310151Z"
    },
    "papermill": {
     "duration": 0.040396,
     "end_time": "2024-07-06T13:03:19.314385",
     "exception": false,
     "start_time": "2024-07-06T13:03:19.273989",
     "status": "completed"
    },
    "tags": []
   },
   "outputs": [
    {
     "data": {
      "text/html": [
       "<div>\n",
       "<style scoped>\n",
       "    .dataframe tbody tr th:only-of-type {\n",
       "        vertical-align: middle;\n",
       "    }\n",
       "\n",
       "    .dataframe tbody tr th {\n",
       "        vertical-align: top;\n",
       "    }\n",
       "\n",
       "    .dataframe thead th {\n",
       "        text-align: right;\n",
       "    }\n",
       "</style>\n",
       "<table border=\"1\" class=\"dataframe\">\n",
       "  <thead>\n",
       "    <tr style=\"text-align: right;\">\n",
       "      <th></th>\n",
       "      <th>Country</th>\n",
       "      <th>Population 2024</th>\n",
       "      <th>Population 2023</th>\n",
       "      <th>Area (km2)</th>\n",
       "      <th>Density (/km2)</th>\n",
       "      <th>Growth Rate</th>\n",
       "      <th>World %</th>\n",
       "      <th>World Rank</th>\n",
       "    </tr>\n",
       "  </thead>\n",
       "  <tbody>\n",
       "    <tr>\n",
       "      <th>0</th>\n",
       "      <td>India</td>\n",
       "      <td>1441719852</td>\n",
       "      <td>1428627663</td>\n",
       "      <td>3M</td>\n",
       "      <td>485.0</td>\n",
       "      <td>0.0092</td>\n",
       "      <td>0.1801</td>\n",
       "      <td>1</td>\n",
       "    </tr>\n",
       "    <tr>\n",
       "      <th>1</th>\n",
       "      <td>China</td>\n",
       "      <td>1425178782</td>\n",
       "      <td>1425671352</td>\n",
       "      <td>9.4M</td>\n",
       "      <td>151.0</td>\n",
       "      <td>-0.0003</td>\n",
       "      <td>0.1780</td>\n",
       "      <td>2</td>\n",
       "    </tr>\n",
       "    <tr>\n",
       "      <th>2</th>\n",
       "      <td>United States</td>\n",
       "      <td>341814420</td>\n",
       "      <td>339996563</td>\n",
       "      <td>9.1M</td>\n",
       "      <td>37.0</td>\n",
       "      <td>0.0053</td>\n",
       "      <td>0.0427</td>\n",
       "      <td>3</td>\n",
       "    </tr>\n",
       "  </tbody>\n",
       "</table>\n",
       "</div>"
      ],
      "text/plain": [
       "         Country  Population 2024  Population 2023 Area (km2)  Density (/km2)  \\\n",
       "0          India       1441719852       1428627663         3M           485.0   \n",
       "1          China       1425178782       1425671352       9.4M           151.0   \n",
       "2  United States        341814420        339996563       9.1M            37.0   \n",
       "\n",
       "   Growth Rate  World %  World Rank  \n",
       "0       0.0092   0.1801           1  \n",
       "1      -0.0003   0.1780           2  \n",
       "2       0.0053   0.0427           3  "
      ]
     },
     "execution_count": 4,
     "metadata": {},
     "output_type": "execute_result"
    }
   ],
   "source": [
    "df.head(3)"
   ]
  },
  {
   "cell_type": "code",
   "execution_count": 5,
   "id": "481dcd17",
   "metadata": {
    "execution": {
     "iopub.execute_input": "2024-07-06T13:03:19.326164Z",
     "iopub.status.busy": "2024-07-06T13:03:19.325703Z",
     "iopub.status.idle": "2024-07-06T13:03:19.338037Z",
     "shell.execute_reply": "2024-07-06T13:03:19.336663Z"
    },
    "papermill": {
     "duration": 0.021502,
     "end_time": "2024-07-06T13:03:19.340798",
     "exception": false,
     "start_time": "2024-07-06T13:03:19.319296",
     "status": "completed"
    },
    "tags": []
   },
   "outputs": [
    {
     "data": {
      "text/plain": [
       "Country            0\n",
       "Population 2024    0\n",
       "Population 2023    0\n",
       "Area (km2)         0\n",
       "Density (/km2)     0\n",
       "Growth Rate        0\n",
       "World %            6\n",
       "World Rank         0\n",
       "dtype: int64"
      ]
     },
     "execution_count": 5,
     "metadata": {},
     "output_type": "execute_result"
    }
   ],
   "source": [
    "df.isnull().sum()"
   ]
  },
  {
   "cell_type": "code",
   "execution_count": 6,
   "id": "ade69b21",
   "metadata": {
    "execution": {
     "iopub.execute_input": "2024-07-06T13:03:19.352984Z",
     "iopub.status.busy": "2024-07-06T13:03:19.352485Z",
     "iopub.status.idle": "2024-07-06T13:03:19.387174Z",
     "shell.execute_reply": "2024-07-06T13:03:19.385857Z"
    },
    "papermill": {
     "duration": 0.044023,
     "end_time": "2024-07-06T13:03:19.389929",
     "exception": false,
     "start_time": "2024-07-06T13:03:19.345906",
     "status": "completed"
    },
    "tags": []
   },
   "outputs": [
    {
     "data": {
      "text/html": [
       "<div>\n",
       "<style scoped>\n",
       "    .dataframe tbody tr th:only-of-type {\n",
       "        vertical-align: middle;\n",
       "    }\n",
       "\n",
       "    .dataframe tbody tr th {\n",
       "        vertical-align: top;\n",
       "    }\n",
       "\n",
       "    .dataframe thead th {\n",
       "        text-align: right;\n",
       "    }\n",
       "</style>\n",
       "<table border=\"1\" class=\"dataframe\">\n",
       "  <thead>\n",
       "    <tr style=\"text-align: right;\">\n",
       "      <th></th>\n",
       "      <th>Population 2024</th>\n",
       "      <th>Population 2023</th>\n",
       "      <th>Density (/km2)</th>\n",
       "      <th>Growth Rate</th>\n",
       "      <th>World %</th>\n",
       "      <th>World Rank</th>\n",
       "    </tr>\n",
       "  </thead>\n",
       "  <tbody>\n",
       "    <tr>\n",
       "      <th>count</th>\n",
       "      <td>2.340000e+02</td>\n",
       "      <td>2.340000e+02</td>\n",
       "      <td>234.000000</td>\n",
       "      <td>234.000000</td>\n",
       "      <td>228.000000</td>\n",
       "      <td>234.000000</td>\n",
       "    </tr>\n",
       "    <tr>\n",
       "      <th>mean</th>\n",
       "      <td>3.468862e+07</td>\n",
       "      <td>3.437442e+07</td>\n",
       "      <td>453.788248</td>\n",
       "      <td>0.009200</td>\n",
       "      <td>0.004446</td>\n",
       "      <td>117.500000</td>\n",
       "    </tr>\n",
       "    <tr>\n",
       "      <th>std</th>\n",
       "      <td>1.380750e+08</td>\n",
       "      <td>1.373864e+08</td>\n",
       "      <td>1990.163274</td>\n",
       "      <td>0.011371</td>\n",
       "      <td>0.017459</td>\n",
       "      <td>67.694165</td>\n",
       "    </tr>\n",
       "    <tr>\n",
       "      <th>min</th>\n",
       "      <td>5.260000e+02</td>\n",
       "      <td>5.180000e+02</td>\n",
       "      <td>0.140000</td>\n",
       "      <td>-0.030900</td>\n",
       "      <td>0.000000</td>\n",
       "      <td>1.000000</td>\n",
       "    </tr>\n",
       "    <tr>\n",
       "      <th>25%</th>\n",
       "      <td>4.264565e+05</td>\n",
       "      <td>4.225982e+05</td>\n",
       "      <td>39.500000</td>\n",
       "      <td>0.001925</td>\n",
       "      <td>0.000100</td>\n",
       "      <td>59.250000</td>\n",
       "    </tr>\n",
       "    <tr>\n",
       "      <th>50%</th>\n",
       "      <td>5.626359e+06</td>\n",
       "      <td>5.643895e+06</td>\n",
       "      <td>98.500000</td>\n",
       "      <td>0.007950</td>\n",
       "      <td>0.000750</td>\n",
       "      <td>117.500000</td>\n",
       "    </tr>\n",
       "    <tr>\n",
       "      <th>75%</th>\n",
       "      <td>2.392272e+07</td>\n",
       "      <td>2.324537e+07</td>\n",
       "      <td>248.250000</td>\n",
       "      <td>0.015675</td>\n",
       "      <td>0.003000</td>\n",
       "      <td>175.750000</td>\n",
       "    </tr>\n",
       "    <tr>\n",
       "      <th>max</th>\n",
       "      <td>1.441720e+09</td>\n",
       "      <td>1.428628e+09</td>\n",
       "      <td>21674.000000</td>\n",
       "      <td>0.048300</td>\n",
       "      <td>0.180100</td>\n",
       "      <td>234.000000</td>\n",
       "    </tr>\n",
       "  </tbody>\n",
       "</table>\n",
       "</div>"
      ],
      "text/plain": [
       "       Population 2024  Population 2023  Density (/km2)  Growth Rate  \\\n",
       "count     2.340000e+02     2.340000e+02      234.000000   234.000000   \n",
       "mean      3.468862e+07     3.437442e+07      453.788248     0.009200   \n",
       "std       1.380750e+08     1.373864e+08     1990.163274     0.011371   \n",
       "min       5.260000e+02     5.180000e+02        0.140000    -0.030900   \n",
       "25%       4.264565e+05     4.225982e+05       39.500000     0.001925   \n",
       "50%       5.626359e+06     5.643895e+06       98.500000     0.007950   \n",
       "75%       2.392272e+07     2.324537e+07      248.250000     0.015675   \n",
       "max       1.441720e+09     1.428628e+09    21674.000000     0.048300   \n",
       "\n",
       "          World %  World Rank  \n",
       "count  228.000000  234.000000  \n",
       "mean     0.004446  117.500000  \n",
       "std      0.017459   67.694165  \n",
       "min      0.000000    1.000000  \n",
       "25%      0.000100   59.250000  \n",
       "50%      0.000750  117.500000  \n",
       "75%      0.003000  175.750000  \n",
       "max      0.180100  234.000000  "
      ]
     },
     "execution_count": 6,
     "metadata": {},
     "output_type": "execute_result"
    }
   ],
   "source": [
    "df.describe()"
   ]
  },
  {
   "cell_type": "code",
   "execution_count": 7,
   "id": "61644c33",
   "metadata": {
    "execution": {
     "iopub.execute_input": "2024-07-06T13:03:19.403270Z",
     "iopub.status.busy": "2024-07-06T13:03:19.402331Z",
     "iopub.status.idle": "2024-07-06T13:03:21.703705Z",
     "shell.execute_reply": "2024-07-06T13:03:21.702534Z"
    },
    "papermill": {
     "duration": 2.310922,
     "end_time": "2024-07-06T13:03:21.706339",
     "exception": false,
     "start_time": "2024-07-06T13:03:19.395417",
     "status": "completed"
    },
    "tags": []
   },
   "outputs": [
    {
     "data": {
      "text/html": [
       "        <script type=\"text/javascript\">\n",
       "        window.PlotlyConfig = {MathJaxConfig: 'local'};\n",
       "        if (window.MathJax && window.MathJax.Hub && window.MathJax.Hub.Config) {window.MathJax.Hub.Config({SVG: {font: \"STIX-Web\"}});}\n",
       "        if (typeof require !== 'undefined') {\n",
       "        require.undef(\"plotly\");\n",
       "        requirejs.config({\n",
       "            paths: {\n",
       "                'plotly': ['https://cdn.plot.ly/plotly-2.27.0.min']\n",
       "            }\n",
       "        });\n",
       "        require(['plotly'], function(Plotly) {\n",
       "            window._Plotly = Plotly;\n",
       "        });\n",
       "        }\n",
       "        </script>\n",
       "        "
      ]
     },
     "metadata": {},
     "output_type": "display_data"
    },
    {
     "data": {
      "text/html": [
       "<div>                            <div id=\"c4886299-ad64-47d6-a25d-41f3d908ef5b\" class=\"plotly-graph-div\" style=\"height:800px; width:100%;\"></div>            <script type=\"text/javascript\">                require([\"plotly\"], function(Plotly) {                    window.PLOTLYENV=window.PLOTLYENV || {};                                    if (document.getElementById(\"c4886299-ad64-47d6-a25d-41f3d908ef5b\")) {                    Plotly.newPlot(                        \"c4886299-ad64-47d6-a25d-41f3d908ef5b\",                        [{\"alignmentgroup\":\"True\",\"hovertemplate\":\"Growth Rate=%{marker.color}\\u003cbr\\u003eCountry=%{y}\\u003cextra\\u003e\\u003c\\u002fextra\\u003e\",\"legendgroup\":\"\",\"marker\":{\"color\":[0.0298,0.0302,0.0305,0.031,0.0311,0.0311,0.0325,0.0329,0.0381,0.0483],\"coloraxis\":\"coloraxis\",\"pattern\":{\"shape\":\"\"}},\"name\":\"\",\"offsetgroup\":\"\",\"orientation\":\"h\",\"showlegend\":false,\"textposition\":\"auto\",\"x\":[0.0298,0.0302,0.0305,0.031,0.0311,0.0311,0.0325,0.0329,0.0381,0.0483],\"xaxis\":\"x\",\"y\":[\"Mayotte\",\"Central African Republic\",\"Angola\",\"Mali\",\"Chad\",\"Somalia\",\"Ukraine\",\"DR Congo\",\"Niger\",\"Syria\"],\"yaxis\":\"y\",\"type\":\"bar\"}],                        {\"template\":{\"data\":{\"barpolar\":[{\"marker\":{\"line\":{\"color\":\"white\",\"width\":0.5},\"pattern\":{\"fillmode\":\"overlay\",\"size\":10,\"solidity\":0.2}},\"type\":\"barpolar\"}],\"bar\":[{\"error_x\":{\"color\":\"#2a3f5f\"},\"error_y\":{\"color\":\"#2a3f5f\"},\"marker\":{\"line\":{\"color\":\"white\",\"width\":0.5},\"pattern\":{\"fillmode\":\"overlay\",\"size\":10,\"solidity\":0.2}},\"type\":\"bar\"}],\"carpet\":[{\"aaxis\":{\"endlinecolor\":\"#2a3f5f\",\"gridcolor\":\"#C8D4E3\",\"linecolor\":\"#C8D4E3\",\"minorgridcolor\":\"#C8D4E3\",\"startlinecolor\":\"#2a3f5f\"},\"baxis\":{\"endlinecolor\":\"#2a3f5f\",\"gridcolor\":\"#C8D4E3\",\"linecolor\":\"#C8D4E3\",\"minorgridcolor\":\"#C8D4E3\",\"startlinecolor\":\"#2a3f5f\"},\"type\":\"carpet\"}],\"choropleth\":[{\"colorbar\":{\"outlinewidth\":0,\"ticks\":\"\"},\"type\":\"choropleth\"}],\"contourcarpet\":[{\"colorbar\":{\"outlinewidth\":0,\"ticks\":\"\"},\"type\":\"contourcarpet\"}],\"contour\":[{\"colorbar\":{\"outlinewidth\":0,\"ticks\":\"\"},\"colorscale\":[[0.0,\"#0d0887\"],[0.1111111111111111,\"#46039f\"],[0.2222222222222222,\"#7201a8\"],[0.3333333333333333,\"#9c179e\"],[0.4444444444444444,\"#bd3786\"],[0.5555555555555556,\"#d8576b\"],[0.6666666666666666,\"#ed7953\"],[0.7777777777777778,\"#fb9f3a\"],[0.8888888888888888,\"#fdca26\"],[1.0,\"#f0f921\"]],\"type\":\"contour\"}],\"heatmapgl\":[{\"colorbar\":{\"outlinewidth\":0,\"ticks\":\"\"},\"colorscale\":[[0.0,\"#0d0887\"],[0.1111111111111111,\"#46039f\"],[0.2222222222222222,\"#7201a8\"],[0.3333333333333333,\"#9c179e\"],[0.4444444444444444,\"#bd3786\"],[0.5555555555555556,\"#d8576b\"],[0.6666666666666666,\"#ed7953\"],[0.7777777777777778,\"#fb9f3a\"],[0.8888888888888888,\"#fdca26\"],[1.0,\"#f0f921\"]],\"type\":\"heatmapgl\"}],\"heatmap\":[{\"colorbar\":{\"outlinewidth\":0,\"ticks\":\"\"},\"colorscale\":[[0.0,\"#0d0887\"],[0.1111111111111111,\"#46039f\"],[0.2222222222222222,\"#7201a8\"],[0.3333333333333333,\"#9c179e\"],[0.4444444444444444,\"#bd3786\"],[0.5555555555555556,\"#d8576b\"],[0.6666666666666666,\"#ed7953\"],[0.7777777777777778,\"#fb9f3a\"],[0.8888888888888888,\"#fdca26\"],[1.0,\"#f0f921\"]],\"type\":\"heatmap\"}],\"histogram2dcontour\":[{\"colorbar\":{\"outlinewidth\":0,\"ticks\":\"\"},\"colorscale\":[[0.0,\"#0d0887\"],[0.1111111111111111,\"#46039f\"],[0.2222222222222222,\"#7201a8\"],[0.3333333333333333,\"#9c179e\"],[0.4444444444444444,\"#bd3786\"],[0.5555555555555556,\"#d8576b\"],[0.6666666666666666,\"#ed7953\"],[0.7777777777777778,\"#fb9f3a\"],[0.8888888888888888,\"#fdca26\"],[1.0,\"#f0f921\"]],\"type\":\"histogram2dcontour\"}],\"histogram2d\":[{\"colorbar\":{\"outlinewidth\":0,\"ticks\":\"\"},\"colorscale\":[[0.0,\"#0d0887\"],[0.1111111111111111,\"#46039f\"],[0.2222222222222222,\"#7201a8\"],[0.3333333333333333,\"#9c179e\"],[0.4444444444444444,\"#bd3786\"],[0.5555555555555556,\"#d8576b\"],[0.6666666666666666,\"#ed7953\"],[0.7777777777777778,\"#fb9f3a\"],[0.8888888888888888,\"#fdca26\"],[1.0,\"#f0f921\"]],\"type\":\"histogram2d\"}],\"histogram\":[{\"marker\":{\"pattern\":{\"fillmode\":\"overlay\",\"size\":10,\"solidity\":0.2}},\"type\":\"histogram\"}],\"mesh3d\":[{\"colorbar\":{\"outlinewidth\":0,\"ticks\":\"\"},\"type\":\"mesh3d\"}],\"parcoords\":[{\"line\":{\"colorbar\":{\"outlinewidth\":0,\"ticks\":\"\"}},\"type\":\"parcoords\"}],\"pie\":[{\"automargin\":true,\"type\":\"pie\"}],\"scatter3d\":[{\"line\":{\"colorbar\":{\"outlinewidth\":0,\"ticks\":\"\"}},\"marker\":{\"colorbar\":{\"outlinewidth\":0,\"ticks\":\"\"}},\"type\":\"scatter3d\"}],\"scattercarpet\":[{\"marker\":{\"colorbar\":{\"outlinewidth\":0,\"ticks\":\"\"}},\"type\":\"scattercarpet\"}],\"scattergeo\":[{\"marker\":{\"colorbar\":{\"outlinewidth\":0,\"ticks\":\"\"}},\"type\":\"scattergeo\"}],\"scattergl\":[{\"marker\":{\"colorbar\":{\"outlinewidth\":0,\"ticks\":\"\"}},\"type\":\"scattergl\"}],\"scattermapbox\":[{\"marker\":{\"colorbar\":{\"outlinewidth\":0,\"ticks\":\"\"}},\"type\":\"scattermapbox\"}],\"scatterpolargl\":[{\"marker\":{\"colorbar\":{\"outlinewidth\":0,\"ticks\":\"\"}},\"type\":\"scatterpolargl\"}],\"scatterpolar\":[{\"marker\":{\"colorbar\":{\"outlinewidth\":0,\"ticks\":\"\"}},\"type\":\"scatterpolar\"}],\"scatter\":[{\"fillpattern\":{\"fillmode\":\"overlay\",\"size\":10,\"solidity\":0.2},\"type\":\"scatter\"}],\"scatterternary\":[{\"marker\":{\"colorbar\":{\"outlinewidth\":0,\"ticks\":\"\"}},\"type\":\"scatterternary\"}],\"surface\":[{\"colorbar\":{\"outlinewidth\":0,\"ticks\":\"\"},\"colorscale\":[[0.0,\"#0d0887\"],[0.1111111111111111,\"#46039f\"],[0.2222222222222222,\"#7201a8\"],[0.3333333333333333,\"#9c179e\"],[0.4444444444444444,\"#bd3786\"],[0.5555555555555556,\"#d8576b\"],[0.6666666666666666,\"#ed7953\"],[0.7777777777777778,\"#fb9f3a\"],[0.8888888888888888,\"#fdca26\"],[1.0,\"#f0f921\"]],\"type\":\"surface\"}],\"table\":[{\"cells\":{\"fill\":{\"color\":\"#EBF0F8\"},\"line\":{\"color\":\"white\"}},\"header\":{\"fill\":{\"color\":\"#C8D4E3\"},\"line\":{\"color\":\"white\"}},\"type\":\"table\"}]},\"layout\":{\"annotationdefaults\":{\"arrowcolor\":\"#2a3f5f\",\"arrowhead\":0,\"arrowwidth\":1},\"autotypenumbers\":\"strict\",\"coloraxis\":{\"colorbar\":{\"outlinewidth\":0,\"ticks\":\"\"}},\"colorscale\":{\"diverging\":[[0,\"#8e0152\"],[0.1,\"#c51b7d\"],[0.2,\"#de77ae\"],[0.3,\"#f1b6da\"],[0.4,\"#fde0ef\"],[0.5,\"#f7f7f7\"],[0.6,\"#e6f5d0\"],[0.7,\"#b8e186\"],[0.8,\"#7fbc41\"],[0.9,\"#4d9221\"],[1,\"#276419\"]],\"sequential\":[[0.0,\"#0d0887\"],[0.1111111111111111,\"#46039f\"],[0.2222222222222222,\"#7201a8\"],[0.3333333333333333,\"#9c179e\"],[0.4444444444444444,\"#bd3786\"],[0.5555555555555556,\"#d8576b\"],[0.6666666666666666,\"#ed7953\"],[0.7777777777777778,\"#fb9f3a\"],[0.8888888888888888,\"#fdca26\"],[1.0,\"#f0f921\"]],\"sequentialminus\":[[0.0,\"#0d0887\"],[0.1111111111111111,\"#46039f\"],[0.2222222222222222,\"#7201a8\"],[0.3333333333333333,\"#9c179e\"],[0.4444444444444444,\"#bd3786\"],[0.5555555555555556,\"#d8576b\"],[0.6666666666666666,\"#ed7953\"],[0.7777777777777778,\"#fb9f3a\"],[0.8888888888888888,\"#fdca26\"],[1.0,\"#f0f921\"]]},\"colorway\":[\"#636efa\",\"#EF553B\",\"#00cc96\",\"#ab63fa\",\"#FFA15A\",\"#19d3f3\",\"#FF6692\",\"#B6E880\",\"#FF97FF\",\"#FECB52\"],\"font\":{\"color\":\"#2a3f5f\"},\"geo\":{\"bgcolor\":\"white\",\"lakecolor\":\"white\",\"landcolor\":\"white\",\"showlakes\":true,\"showland\":true,\"subunitcolor\":\"#C8D4E3\"},\"hoverlabel\":{\"align\":\"left\"},\"hovermode\":\"closest\",\"mapbox\":{\"style\":\"light\"},\"paper_bgcolor\":\"white\",\"plot_bgcolor\":\"white\",\"polar\":{\"angularaxis\":{\"gridcolor\":\"#EBF0F8\",\"linecolor\":\"#EBF0F8\",\"ticks\":\"\"},\"bgcolor\":\"white\",\"radialaxis\":{\"gridcolor\":\"#EBF0F8\",\"linecolor\":\"#EBF0F8\",\"ticks\":\"\"}},\"scene\":{\"xaxis\":{\"backgroundcolor\":\"white\",\"gridcolor\":\"#DFE8F3\",\"gridwidth\":2,\"linecolor\":\"#EBF0F8\",\"showbackground\":true,\"ticks\":\"\",\"zerolinecolor\":\"#EBF0F8\"},\"yaxis\":{\"backgroundcolor\":\"white\",\"gridcolor\":\"#DFE8F3\",\"gridwidth\":2,\"linecolor\":\"#EBF0F8\",\"showbackground\":true,\"ticks\":\"\",\"zerolinecolor\":\"#EBF0F8\"},\"zaxis\":{\"backgroundcolor\":\"white\",\"gridcolor\":\"#DFE8F3\",\"gridwidth\":2,\"linecolor\":\"#EBF0F8\",\"showbackground\":true,\"ticks\":\"\",\"zerolinecolor\":\"#EBF0F8\"}},\"shapedefaults\":{\"line\":{\"color\":\"#2a3f5f\"}},\"ternary\":{\"aaxis\":{\"gridcolor\":\"#DFE8F3\",\"linecolor\":\"#A2B1C6\",\"ticks\":\"\"},\"baxis\":{\"gridcolor\":\"#DFE8F3\",\"linecolor\":\"#A2B1C6\",\"ticks\":\"\"},\"bgcolor\":\"white\",\"caxis\":{\"gridcolor\":\"#DFE8F3\",\"linecolor\":\"#A2B1C6\",\"ticks\":\"\"}},\"title\":{\"x\":0.05},\"xaxis\":{\"automargin\":true,\"gridcolor\":\"#EBF0F8\",\"linecolor\":\"#EBF0F8\",\"ticks\":\"\",\"title\":{\"standoff\":15},\"zerolinecolor\":\"#EBF0F8\",\"zerolinewidth\":2},\"yaxis\":{\"automargin\":true,\"gridcolor\":\"#EBF0F8\",\"linecolor\":\"#EBF0F8\",\"ticks\":\"\",\"title\":{\"standoff\":15},\"zerolinecolor\":\"#EBF0F8\",\"zerolinewidth\":2}}},\"xaxis\":{\"anchor\":\"y\",\"domain\":[0.0,1.0],\"title\":{\"text\":\"Growth Rate\"}},\"yaxis\":{\"anchor\":\"x\",\"domain\":[0.0,1.0],\"title\":{\"text\":\"Country\"}},\"coloraxis\":{\"colorbar\":{\"title\":{\"text\":\"Growth Rate\"}},\"colorscale\":[[0.0,\"#f0f921\"],[0.1111111111111111,\"#fdca26\"],[0.2222222222222222,\"#fb9f3a\"],[0.3333333333333333,\"#ed7953\"],[0.4444444444444444,\"#d8576b\"],[0.5555555555555556,\"#bd3786\"],[0.6666666666666666,\"#9c179e\"],[0.7777777777777778,\"#7201a8\"],[0.8888888888888888,\"#46039f\"],[1.0,\"#0d0887\"]]},\"legend\":{\"tracegroupgap\":0},\"title\":{\"text\":\"Top 10 Countries by Population Growth Rate\"},\"barmode\":\"relative\",\"height\":800},                        {\"responsive\": true}                    ).then(function(){\n",
       "                            \n",
       "var gd = document.getElementById('c4886299-ad64-47d6-a25d-41f3d908ef5b');\n",
       "var x = new MutationObserver(function (mutations, observer) {{\n",
       "        var display = window.getComputedStyle(gd).display;\n",
       "        if (!display || display === 'none') {{\n",
       "            console.log([gd, 'removed!']);\n",
       "            Plotly.purge(gd);\n",
       "            observer.disconnect();\n",
       "        }}\n",
       "}});\n",
       "\n",
       "// Listen for the removal of the full notebook cells\n",
       "var notebookContainer = gd.closest('#notebook-container');\n",
       "if (notebookContainer) {{\n",
       "    x.observe(notebookContainer, {childList: true});\n",
       "}}\n",
       "\n",
       "// Listen for the clearing of the current output cell\n",
       "var outputEl = gd.closest('.output');\n",
       "if (outputEl) {{\n",
       "    x.observe(outputEl, {childList: true});\n",
       "}}\n",
       "\n",
       "                        })                };                });            </script>        </div>"
      ]
     },
     "metadata": {},
     "output_type": "display_data"
    }
   ],
   "source": [
    "fig = px.bar(df.nlargest(10, 'Growth Rate').sort_values('Growth Rate'), \n",
    "             x='Growth Rate', y='Country', \n",
    "             title='Top 10 Countries by Population Growth Rate',\n",
    "             labels={'Growth Rate': 'Growth Rate'},\n",
    "             color='Growth Rate',\n",
    "             color_continuous_scale=px.colors.sequential.Plasma_r,\n",
    "             height=800)\n",
    "fig.update_layout(xaxis_title='Growth Rate', yaxis_title='Country', template='plotly_white')\n",
    "fig.show()"
   ]
  },
  {
   "cell_type": "code",
   "execution_count": 8,
   "id": "88fd098f",
   "metadata": {
    "execution": {
     "iopub.execute_input": "2024-07-06T13:03:21.720284Z",
     "iopub.status.busy": "2024-07-06T13:03:21.719874Z",
     "iopub.status.idle": "2024-07-06T13:03:21.883548Z",
     "shell.execute_reply": "2024-07-06T13:03:21.882448Z"
    },
    "papermill": {
     "duration": 0.173535,
     "end_time": "2024-07-06T13:03:21.886095",
     "exception": false,
     "start_time": "2024-07-06T13:03:21.712560",
     "status": "completed"
    },
    "tags": []
   },
   "outputs": [
    {
     "data": {
      "text/html": [
       "<div>                            <div id=\"1fdd7bde-8f2f-4197-8e45-fca8baad5d94\" class=\"plotly-graph-div\" style=\"height:525px; width:100%;\"></div>            <script type=\"text/javascript\">                require([\"plotly\"], function(Plotly) {                    window.PLOTLYENV=window.PLOTLYENV || {};                                    if (document.getElementById(\"1fdd7bde-8f2f-4197-8e45-fca8baad5d94\")) {                    Plotly.newPlot(                        \"1fdd7bde-8f2f-4197-8e45-fca8baad5d94\",                        [{\"coloraxis\":\"coloraxis\",\"customdata\":[[1428627663,\"3M\",485.0,0.0092,0.1801,1],[1425671352,\"9.4M\",151.0,-0.0003,0.178,2],[339996563,\"9.1M\",37.0,0.0053,0.0427,3],[277534122,\"1.9M\",149.0,0.0082,0.035,4],[240485658,\"770.9K\",318.0,0.0196,0.0306,5],[223804632,\"910.8K\",252.0,0.0239,0.0286,6],[216422446,\"8.4M\",26.0,0.0056,0.0272,7],[172954319,\"130.2K\",1342.0,0.0101,0.0218,8],[144444359,\"16.4M\",9.0,-0.0034,0.018,9],[126527060,\"1.1M\",115.0,0.0252,0.0162,10],[128455567,\"1.9M\",67.0,0.0073,0.0162,11],[123294513,\"364.5K\",336.0,-0.0054,0.0153,12],[117337368,\"298.2K\",399.0,0.0151,0.0149,13],[112716598,\"1M\",115.0,0.0157,0.0143,14],[102262808,\"2.3M\",47.0,0.0329,0.0132,15],[98858950,\"313.4K\",317.0,0.0065,0.0124,16],[89172767,\"1.6M\",55.0,0.0071,0.0112,17],[85816199,\"783.6K\",110.0,0.0052,0.0108,18],[83294633,\"349.4K\",238.0,-0.0005,0.0104,19],[71801279,\"510.9K\",141.0,0.0012,0.009,20],[67438106,\"885.8K\",78.0,0.0294,0.0087,21],[67736802,\"241.9K\",281.0,0.0033,0.0085,22],[64756584,\"547.6K\",118.0,0.0019,0.0081,23],[60414495,\"1.2M\",50.0,0.01,0.0076,24],[58870762,\"295.7K\",198.0,-0.0029,0.0073,25],[55100586,\"569.1K\",99.0,0.02,0.007,26],[54577997,\"652.7K\",84.0,0.0071,0.0069,27],[52085168,\"1.1M\",47.0,0.0049,0.0065,28],[51784059,\"97.6K\",530.0,-0.0008,0.0065,29],[48582334,\"200.5K\",249.0,0.0276,0.0062,30],[48109006,\"1.9M\",26.0,0.026,0.0062,31],[47519628,\"499.6K\",95.0,-0.001,0.0059,32],[45504560,\"434.1K\",107.0,0.0224,0.0058,33],[45606480,\"2.4M\",19.0,0.0147,0.0058,34],[45773884,\"2.7M\",17.0,0.0062,0.0058,35],[42239854,\"652.2K\",66.0,0.0268,0.0054,36],[41026067,\"306.1K\",131.0,-0.0196,0.005,37],[38781291,\"9M\",4.0,0.0084,0.0049,38],[37840044,\"446.3K\",86.0,0.0098,0.0048,39],[36744634,\"579.4K\",65.0,0.0325,0.0047,40],[36684202,\"1.2M\",30.0,0.0305,0.0047,41],[36947025,\"2.1M\",17.0,0.0143,0.0047,42],[35163944,\"440.6K\",81.0,0.0145,0.0045,43],[34449825,\"528K\",67.0,0.0224,0.0044,44],[33897354,\"786.4K\",44.0,0.0284,0.0044,45],[34121985,\"227.5K\",153.0,0.0192,0.0043,46],[34352719,\"1.3M\",27.0,0.0096,0.0043,47],[34308525,\"328.6K\",106.0,0.0106,0.0043,48],[30896590,\"143.3K\",218.0,0.0111,0.0039,49],[30325732,\"581.8K\",53.0,0.0241,0.0039,50],[28873034,\"318K\",93.0,0.0253,0.0037,51],[28838499,\"882K\",33.0,0.0193,0.0037,52],[28647293,\"472.7K\",62.0,0.0261,0.0037,53],[27202843,\"1.3M\",22.0,0.0381,0.0035,54],[26439111,\"7.7M\",3.0,0.0098,0.0033,55],[26160821,\"120.4K\",218.0,0.0032,0.0033,56],[23227014,\"183.6K\",133.0,0.0483,0.003,57],[23293698,\"1.2M\",20.0,0.031,0.003,58],[23923276,\"36.2K\",662.0,0.0011,0.003,59],[23251485,\"273.6K\",87.0,0.0253,0.003,60],[21893579,\"61.9K\",355.0,0.0025,0.0027,61],[20931751,\"94.3K\",228.0,0.026,0.0027,62],[20569737,\"743.4K\",28.0,0.0275,0.0026,63],[19606633,\"2.7M\",7.0,0.0113,0.0025,64],[19629590,\"743.5K\",26.0,0.0015,0.0025,65],[19892812,\"230.1K\",85.0,-0.0138,0.0025,66],[18278568,\"1.3M\",15.0,0.0311,0.0024,67],[18143378,\"627.3K\",30.0,0.0311,0.0023,68],[18190484,\"248.4K\",74.0,0.0103,0.0023,69],[18092026,\"107.2K\",171.0,0.0147,0.0023,70],[17763163,\"192.5K\",95.0,0.0258,0.0023,71],[17618299,\"33.7K\",525.0,0.003,0.0022,72],[16944826,\"176.5K\",97.0,0.0104,0.0021,73],[16665409,\"386.9K\",44.0,0.0213,0.0021,74],[14190612,\"245.7K\",59.0,0.0238,0.0018,75],[14094683,\"24.7K\",584.0,0.0227,0.0018,76],[13712828,\"112.8K\",125.0,0.0268,0.0018,77],[13238559,\"25.7K\",529.0,0.0267,0.0017,78],[12388571,\"1.1M\",12.0,0.0144,0.0016,79],[12458223,\"155.4K\",81.0,0.0085,0.0016,80],[11724763,\"27.6K\",431.0,0.0121,0.0015,81],[11686140,\"30.3K\",387.0,0.0025,0.0015,82],[11332972,\"48.3K\",237.0,0.0089,0.0014,83],[11337052,\"88.8K\",128.0,0.0042,0.0014,84],[11088796,\"631.9K\",18.0,0.017,0.0014,85],[11194449,\"103.8K\",108.0,-0.0018,0.0014,86],[10593798,\"111.9K\",96.0,0.0156,0.0013,87],[10612086,\"407.3K\",26.0,0.0058,0.0013,88],[10329931,\"452.9K\",23.0,0.018,0.0013,89],[10495295,\"77.2K\",136.0,0.0008,0.0013,90],[10412651,\"82.6K\",127.0,0.0048,0.0013,91],[10143543,\"138.8K\",74.0,0.0185,0.0013,92],[10341277,\"128.9K\",80.0,-0.0037,0.0013,93],[10247605,\"91.6K\",112.0,-0.0024,0.0013,94],[10156239,\"91.3K\",110.0,-0.0159,0.0012,95],[9516871,\"71K\",135.0,0.0079,0.0012,96],[9498238,\"203K\",47.0,-0.0045,0.0012,97],[9174520,\"21.6K\",430.0,0.0149,0.0012,98],[9053799,\"54.4K\",170.0,0.0229,0.0012,99],[8791092,\"72.2K\",124.0,0.0213,0.0011,100],[8958960,\"82.5K\",109.0,0.002,0.0011,101],[8796669,\"39.5K\",224.0,0.0062,0.0011,102],[7633779,\"230.8K\",34.0,0.0135,0.001,103],[7491609,\"1.1K\",7140.0,0.0007,0.0009,104],[7046310,\"120.3K\",59.0,0.0137,0.0009,105],[7149077,\"87.5K\",81.0,-0.0073,0.0009,106],[6888388,\"1.8M\",4.0,0.011,0.0009,107],[6861524,\"397.3K\",17.0,0.0125,0.0009,108],[6735347,\"191.8K\",36.0,0.0155,0.0009,109],[6687717,\"108.6K\",61.0,-0.0103,0.0008,110],[6516100,\"469.9K\",14.0,0.0126,0.0008,111],[6364943,\"20.7K\",309.0,0.0049,0.0008,112],[6106869,\"341.5K\",18.0,0.0225,0.0008,113],[6014723,\"718\",8430.0,0.0063,0.0008,114],[5910913,\"40K\",148.0,0.0049,0.0007,115],[5742315,\"623K\",9.0,0.0302,0.0007,116],[5795199,\"49K\",116.0,-0.0159,0.0007,117],[5545475,\"303.9K\",18.0,0.0008,0.0007,118],[5418377,\"96.3K\",57.0,0.0219,0.0007,119],[5474360,\"364.3K\",15.0,0.0073,0.0007,120],[5371230,\"6K\",913.0,0.023,0.0007,121],[5228100,\"263.3K\",20.0,0.008,0.0007,122],[5212173,\"51.1K\",103.0,0.0066,0.0007,123],[5353930,\"10.2K\",510.0,-0.0252,0.0007,124],[5056935,\"68.9K\",74.0,0.0064,0.0006,125],[4862989,\"1M\",5.0,0.0269,0.0006,126],[4644384,\"309.5K\",15.0,0.0149,0.0006,127],[4468087,\"74.2K\",61.0,0.0134,0.0006,128],[4310108,\"17.8K\",244.0,0.0091,0.0005,129],[4008617,\"56K\",71.0,-0.0055,0.0005,130],[3748901,\"121K\",32.0,0.0183,0.0005,131],[3728282,\"69.5K\",53.0,-0.0029,0.0005,132],[3447157,\"1.6M\",2.0,0.0135,0.0004,133],[3423108,\"175K\",20.0,0.0001,0.0004,134],[3435931,\"32.9K\",101.0,-0.0309,0.0004,135],[3260314,\"8.9K\",369.0,0.0026,0.0004,136],[3210847,\"51.2K\",62.0,-0.0051,0.0004,137],[2773168,\"10.1K\",281.0,0.0247,0.0004,138],[2832439,\"27.4K\",103.0,-0.0023,0.0004,139],[2825544,\"10.8K\",261.0,-0.0003,0.0004,140],[2777970,\"28.5K\",98.0,0.0,0.0003,141],[2716391,\"11.5K\",238.0,0.0076,0.0003,142],[2675352,\"566.7K\",5.0,0.0166,0.0003,143],[2718352,\"62.6K\",43.0,-0.0094,0.0003,144],[2604172,\"823.3K\",3.0,0.016,0.0003,145],[2436566,\"257.7K\",10.0,0.0197,0.0003,146],[2330318,\"30.4K\",78.0,0.0111,0.0003,147],[2150842,\"28.1K\",78.0,0.0215,0.0003,148],[2119675,\"20.1K\",105.0,-0.0003,0.0003,149],[2085679,\"25.2K\",83.0,-0.0014,0.0003,150],[1830211,\"62.2K\",29.0,-0.0109,0.0002,151],[1714671,\"28.1K\",63.0,0.0235,0.0002,152],[1534937,\"5.1K\",300.0,0.0021,0.0002,153],[1485509,\"785\",1909.0,0.0089,0.0002,154],[1360596,\"14.9K\",93.0,0.0142,0.0002,155],[1322765,\"42.8K\",31.0,-0.0028,0.0002,156],[1300557,\"2K\",641.0,0.0011,0.0002,157],[1260138,\"9.2K\",137.0,0.0066,0.0002,158],[1210822,\"17.2K\",71.0,0.0093,0.0002,159],[1136455,\"23.2K\",50.0,0.014,0.0001,160],[981796,\"2.5K\",394.0,0.0077,0.0001,161],[936375,\"18.3K\",52.0,0.0072,0.0001,162],[852075,\"1.9K\",466.0,0.0182,0.0001,163],[813834,\"196.8K\",4.0,0.0071,0.0001,164],[787424,\"38.1K\",21.0,0.0063,0.0001,165],[740424,\"28K\",27.0,0.0219,0.0001,166],[704149,\"33\",21674.0,0.0127,0.0001,167],[654768,\"2.6K\",257.0,0.0104,0.0001,168],[623236,\"156K\",4.0,0.0089,0.0001,169],[626485,\"13.4K\",47.0,-0.0006,0.0001,170],[598682,\"4K\",150.0,0.0097,0.0001,171],[587259,\"266K\",2.0,0.0189,0.0001,172],[535064,\"320\",1677.0,0.0031,0.0001,173],[521021,\"300\",1726.0,-0.006,0.0001,174],[452524,\"5.3K\",87.0,0.0074,0.0001,175],[410825,\"22.8K\",18.0,0.0142,0.0001,176],[412623,\"10K\",41.0,0.0063,0.0001,177],[395839,\"1.6K\",243.0,0.0013,0.0,178],[375318,\"100.8K\",4.0,0.0063,0.0,179],[366981,\"1.1K\",325.0,-0.0015,0.0,180],[335995,\"374\",925.0,0.0298,0.0,181],[334506,\"12.2K\",28.0,0.0234,0.0,182],[312155,\"83.5K\",4.0,0.0245,0.0,183],[308872,\"3.5K\",90.0,0.0081,0.0,184],[292991,\"18.3K\",16.0,0.0102,0.0,185],[281995,\"430\",657.0,0.0011,0.0,186],[231856,\"960\",246.0,0.0195,0.0,187],[225681,\"2.8K\",82.0,0.0146,0.0,188],[192077,\"444\",435.0,0.0046,0.0,189],[180251,\"610\",296.0,0.0031,0.0,190],[172952,\"540\",322.0,0.0067,0.0,191],[133515,\"810\",168.0,0.0168,0.0,192],[126183,\"340\",373.0,0.0056,0.0,193],[115224,\"700\",166.0,0.0093,0.0,194],[111802,\"120\",940.0,0.0093,0.0,195],[107773,\"720\",151.0,0.0084,0.0,196],[107660,\"460\",235.0,0.0056,0.0,197],[106277,\"180\",590.0,-0.0009,0.0,198],[103698,\"390\",266.0,-0.0001,0.0,199],[98750,\"347\",283.0,-0.007,0.0,200],[94298,\"440\",215.0,0.0055,0.0,201],[84710,\"570\",149.0,0.0023,0.0,202],[80088,\"470\",171.0,0.0032,0.0,203],[73040,\"750\",98.0,0.0045,0.0,204],[69310,\"240\",291.0,0.0083,0.0,205],[64069,\"54\",1184.0,-0.0021,0.0,206],[63544,\"63\",1013.0,0.0038,0.0,207],[56643,\"410.4K\",0.14,0.0026,0.0,208],[53270,\"1.4K\",39.0,0.0033,0.0,209],[49796,\"460\",109.0,0.0046,0.0,210],[47755,\"260\",184.0,0.0019,0.0,211],[46062,\"948\",49.0,0.008,0.0,212],[44222,\"34\",1303.0,0.002,0.0,213],[43914,\"200\",218.0,-0.0084,0.0,214],[41996,\"180\",236.0,0.01,0.0,215],[39584,\"160\",249.0,0.006,0.0,216],[36297,\"2\",18079.0,-0.0039,0.0,217],[33642,\"60\",560.0,-0.0008,0.0,218],[32688,\"7\",4811.0,0.0009,0.0,219],[32077,\"50\",647.0,0.0081,0.0,220],[31538,\"150\",212.0,0.0071,0.0,221],[18058,\"460\",39.0,-0.0004,0.0,222],[17044,\"240\",71.0,0.0016,0.0,223],[15899,\"91\",175.0,0.0023,0.0,224],[12780,\"20\",644.0,0.0081,0.0,225],[11396,\"30\",383.0,0.0072,0.0,226],[11502,\"274\",42.0,-0.0055,0.0,227],[10994,\"25\",441.0,0.0023,0.0,228],[5840,\"242\",24.0,-0.0043,null,229],[4386,\"102\",43.0,-0.0032,null,230],[3791,\"12.2K\",0.31,0.0032,null,231],[1935,\"261\",7.0,0.0,null,232],[1893,\"10\",192.0,0.0116,null,233],[518,\"\\u003c 1\",1195.0,0.0154,null,234]],\"geo\":\"geo\",\"hovertemplate\":\"\\u003cb\\u003e%{hovertext}\\u003c\\u002fb\\u003e\\u003cbr\\u003e\\u003cbr\\u003eCountry=%{location}\\u003cbr\\u003ePopulation 2023=%{customdata[0]}\\u003cbr\\u003eArea (km2)=%{customdata[1]}\\u003cbr\\u003eDensity (\\u002fkm2)=%{customdata[2]}\\u003cbr\\u003eGrowth Rate=%{customdata[3]}\\u003cbr\\u003eWorld %=%{customdata[4]}\\u003cbr\\u003eWorld Rank=%{customdata[5]}\\u003cbr\\u003ePopulation 2024=%{z}\\u003cextra\\u003e\\u003c\\u002fextra\\u003e\",\"hovertext\":[\"India\",\"China\",\"United States\",\"Indonesia\",\"Pakistan\",\"Nigeria\",\"Brazil\",\"Bangladesh\",\"Russia\",\"Ethiopia\",\"Mexico\",\"Japan\",\"Philippines\",\"Egypt\",\"DR Congo\",\"Vietnam\",\"Iran\",\"Turkey\",\"Germany\",\"Thailand\",\"Tanzania\",\"United Kingdom\",\"France\",\"South Africa\",\"Italy\",\"Kenya\",\"Myanmar\",\"Colombia\",\"South Korea\",\"Uganda\",\"Sudan\",\"Spain\",\"Iraq\",\"Algeria\",\"Argentina\",\"Afghanistan\",\"Poland\",\"Canada\",\"Morocco\",\"Ukraine\",\"Angola\",\"Saudi Arabia\",\"Uzbekistan\",\"Yemen\",\"Mozambique\",\"Ghana\",\"Peru\",\"Malaysia\",\"Nepal\",\"Madagascar\",\"Ivory Coast\",\"Venezuela\",\"Cameroon\",\"Niger\",\"Australia\",\"North Korea\",\"Syria\",\"Mali\",\"Taiwan\",\"Burkina Faso\",\"Sri Lanka\",\"Malawi\",\"Zambia\",\"Kazakhstan\",\"Chile\",\"Romania\",\"Chad\",\"Somalia\",\"Ecuador\",\"Guatemala\",\"Senegal\",\"Netherlands\",\"Cambodia\",\"Zimbabwe\",\"Guinea\",\"Rwanda\",\"Benin\",\"Burundi\",\"Bolivia\",\"Tunisia\",\"Haiti\",\"Belgium\",\"Dominican Republic\",\"Jordan\",\"South Sudan\",\"Cuba\",\"Honduras\",\"Sweden\",\"Papua New Guinea\",\"Czech Republic\",\"Azerbaijan\",\"Tajikistan\",\"Greece\",\"Portugal\",\"Hungary\",\"United Arab Emirates\",\"Belarus\",\"Israel\",\"Togo\",\"Sierra Leone\",\"Austria\",\"Switzerland\",\"Laos\",\"Hong Kong\",\"Nicaragua\",\"Serbia\",\"Libya\",\"Paraguay\",\"Kyrgyzstan\",\"Bulgaria\",\"Turkmenistan\",\"El Salvador\",\"Republic of the Congo\",\"Singapore\",\"Denmark\",\"Central African Republic\",\"Slovakia\",\"Finland\",\"Liberia\",\"Norway\",\"Palestine\",\"New Zealand\",\"Costa Rica\",\"Lebanon\",\"Ireland\",\"Mauritania\",\"Oman\",\"Panama\",\"Kuwait\",\"Croatia\",\"Eritrea\",\"Georgia\",\"Mongolia\",\"Uruguay\",\"Moldova\",\"Puerto Rico\",\"Bosnia and Herzegovina\",\"Gambia\",\"Albania\",\"Jamaica\",\"Armenia\",\"Qatar\",\"Botswana\",\"Lithuania\",\"Namibia\",\"Gabon\",\"Lesotho\",\"Guinea Bissau\",\"Slovenia\",\"North Macedonia\",\"Latvia\",\"Equatorial Guinea\",\"Trinidad and Tobago\",\"Bahrain\",\"Timor Leste\",\"Estonia\",\"Mauritius\",\"Cyprus\",\"Eswatini\",\"Djibouti\",\"Reunion\",\"Fiji\",\"Comoros\",\"Guyana\",\"Bhutan\",\"Solomon Islands\",\"Macau\",\"Luxembourg\",\"Suriname\",\"Montenegro\",\"Cape Verde\",\"Western Sahara\",\"Malta\",\"Maldives\",\"Brunei\",\"Belize\",\"Bahamas\",\"Guadeloupe\",\"Iceland\",\"Martinique\",\"Mayotte\",\"Vanuatu\",\"French Guiana\",\"French Polynesia\",\"New Caledonia\",\"Barbados\",\"Sao Tome and Principe\",\"Samoa\",\"Curacao\",\"Saint Lucia\",\"Guam\",\"Kiribati\",\"Grenada\",\"Micronesia\",\"Jersey\",\"Tonga\",\"Seychelles\",\"Aruba\",\"Saint Vincent and the Grenadines\",\"United States Virgin Islands\",\"Antigua and Barbuda\",\"Isle of Man\",\"Andorra\",\"Dominica\",\"Cayman Islands\",\"Bermuda\",\"Guernsey\",\"Greenland\",\"Faroe Islands\",\"Northern Mariana Islands\",\"Saint Kitts and Nevis\",\"Turks and Caicos Islands\",\"Sint Maarten\",\"American Samoa\",\"Marshall Islands\",\"Liechtenstein\",\"Monaco\",\"San Marino\",\"Gibraltar\",\"Saint Martin\",\"British Virgin Islands\",\"Palau\",\"Cook Islands\",\"Anguilla\",\"Nauru\",\"Tuvalu\",\"Wallis and Futuna\",\"Saint Barthelemy\",\"Saint Pierre and Miquelon\",\"Montserrat\",\"Falkland Islands\",\"Niue\",\"Tokelau\",\"Vatican City\"],\"locationmode\":\"country names\",\"locations\":[\"India\",\"China\",\"United States\",\"Indonesia\",\"Pakistan\",\"Nigeria\",\"Brazil\",\"Bangladesh\",\"Russia\",\"Ethiopia\",\"Mexico\",\"Japan\",\"Philippines\",\"Egypt\",\"DR Congo\",\"Vietnam\",\"Iran\",\"Turkey\",\"Germany\",\"Thailand\",\"Tanzania\",\"United Kingdom\",\"France\",\"South Africa\",\"Italy\",\"Kenya\",\"Myanmar\",\"Colombia\",\"South Korea\",\"Uganda\",\"Sudan\",\"Spain\",\"Iraq\",\"Algeria\",\"Argentina\",\"Afghanistan\",\"Poland\",\"Canada\",\"Morocco\",\"Ukraine\",\"Angola\",\"Saudi Arabia\",\"Uzbekistan\",\"Yemen\",\"Mozambique\",\"Ghana\",\"Peru\",\"Malaysia\",\"Nepal\",\"Madagascar\",\"Ivory Coast\",\"Venezuela\",\"Cameroon\",\"Niger\",\"Australia\",\"North Korea\",\"Syria\",\"Mali\",\"Taiwan\",\"Burkina Faso\",\"Sri Lanka\",\"Malawi\",\"Zambia\",\"Kazakhstan\",\"Chile\",\"Romania\",\"Chad\",\"Somalia\",\"Ecuador\",\"Guatemala\",\"Senegal\",\"Netherlands\",\"Cambodia\",\"Zimbabwe\",\"Guinea\",\"Rwanda\",\"Benin\",\"Burundi\",\"Bolivia\",\"Tunisia\",\"Haiti\",\"Belgium\",\"Dominican Republic\",\"Jordan\",\"South Sudan\",\"Cuba\",\"Honduras\",\"Sweden\",\"Papua New Guinea\",\"Czech Republic\",\"Azerbaijan\",\"Tajikistan\",\"Greece\",\"Portugal\",\"Hungary\",\"United Arab Emirates\",\"Belarus\",\"Israel\",\"Togo\",\"Sierra Leone\",\"Austria\",\"Switzerland\",\"Laos\",\"Hong Kong\",\"Nicaragua\",\"Serbia\",\"Libya\",\"Paraguay\",\"Kyrgyzstan\",\"Bulgaria\",\"Turkmenistan\",\"El Salvador\",\"Republic of the Congo\",\"Singapore\",\"Denmark\",\"Central African Republic\",\"Slovakia\",\"Finland\",\"Liberia\",\"Norway\",\"Palestine\",\"New Zealand\",\"Costa Rica\",\"Lebanon\",\"Ireland\",\"Mauritania\",\"Oman\",\"Panama\",\"Kuwait\",\"Croatia\",\"Eritrea\",\"Georgia\",\"Mongolia\",\"Uruguay\",\"Moldova\",\"Puerto Rico\",\"Bosnia and Herzegovina\",\"Gambia\",\"Albania\",\"Jamaica\",\"Armenia\",\"Qatar\",\"Botswana\",\"Lithuania\",\"Namibia\",\"Gabon\",\"Lesotho\",\"Guinea Bissau\",\"Slovenia\",\"North Macedonia\",\"Latvia\",\"Equatorial Guinea\",\"Trinidad and Tobago\",\"Bahrain\",\"Timor Leste\",\"Estonia\",\"Mauritius\",\"Cyprus\",\"Eswatini\",\"Djibouti\",\"Reunion\",\"Fiji\",\"Comoros\",\"Guyana\",\"Bhutan\",\"Solomon Islands\",\"Macau\",\"Luxembourg\",\"Suriname\",\"Montenegro\",\"Cape Verde\",\"Western Sahara\",\"Malta\",\"Maldives\",\"Brunei\",\"Belize\",\"Bahamas\",\"Guadeloupe\",\"Iceland\",\"Martinique\",\"Mayotte\",\"Vanuatu\",\"French Guiana\",\"French Polynesia\",\"New Caledonia\",\"Barbados\",\"Sao Tome and Principe\",\"Samoa\",\"Curacao\",\"Saint Lucia\",\"Guam\",\"Kiribati\",\"Grenada\",\"Micronesia\",\"Jersey\",\"Tonga\",\"Seychelles\",\"Aruba\",\"Saint Vincent and the Grenadines\",\"United States Virgin Islands\",\"Antigua and Barbuda\",\"Isle of Man\",\"Andorra\",\"Dominica\",\"Cayman Islands\",\"Bermuda\",\"Guernsey\",\"Greenland\",\"Faroe Islands\",\"Northern Mariana Islands\",\"Saint Kitts and Nevis\",\"Turks and Caicos Islands\",\"Sint Maarten\",\"American Samoa\",\"Marshall Islands\",\"Liechtenstein\",\"Monaco\",\"San Marino\",\"Gibraltar\",\"Saint Martin\",\"British Virgin Islands\",\"Palau\",\"Cook Islands\",\"Anguilla\",\"Nauru\",\"Tuvalu\",\"Wallis and Futuna\",\"Saint Barthelemy\",\"Saint Pierre and Miquelon\",\"Montserrat\",\"Falkland Islands\",\"Niue\",\"Tokelau\",\"Vatican City\"],\"name\":\"\",\"z\":[1441719852,1425178782,341814420,279798049,245209815,229152217,217637297,174701211,143957079,129719719,129388467,122631432,119106224,114484252,105625114,99497680,89809781,86260417,83252474,71885799,69419073,67961439,64881830,61020221,58697744,56203030,54964694,52340774,51741963,49924252,49358228,47473373,46523657,46278751,46057866,43372950,40221726,39107046,38211459,37937821,37804634,37473929,35673804,35219853,34858402,34777522,34683444,34671895,31240315,31056610,29603302,29395334,29394433,28238972,26699482,26244582,24348053,24015789,23950214,23840247,21949268,21475962,21134695,19828165,19658839,19618996,18847148,18706922,18377367,18358430,18221567,17671125,17121847,17020321,14528770,14414910,14080072,13591657,12567336,12564689,11867030,11715774,11434005,11384922,11277092,11174587,10759406,10673669,10515788,10503734,10462904,10331513,10302720,10223349,9994993,9591853,9455037,9311652,9260864,8977972,8977139,8851431,7736681,7496681,7142529,7097028,6964197,6947270,6839606,6618615,6598071,6396289,6244547,6052709,5939695,5915627,5702832,5549886,5536949,5514477,5494963,5269939,5246714,5219044,5089478,4993922,4713553,4527961,4349380,3986627,3817651,3717425,3493629,3423316,3329865,3268802,3194378,2841803,2826020,2824738,2777979,2737061,2719694,2692798,2645805,2484557,2356083,2197149,2118965,2082706,1810240,1754993,1538200,1498712,1379883,1319041,1301978,1268467,1222075,1152329,989350,943072,867605,819594,792382,756673,713082,661594,628785,626102,604461,598385,536740,517887,455858,416656,415223,396346,377689,366416,345996,342325,319796,311383,295966,282309,236381,228966,192965,180805,174114,135763,126887,116300,112843,108683,108263,106177,103683,98055,94816,84904,80341,73368,69885,63935,63788,56789,53444,50025,47847,46431,44309,43544,42415,39822,36157,33614,32718,32337,31763,18051,17072,15936,12884,11478,11439,11019,5815,4372,3803,1935,1915,526],\"type\":\"choropleth\"}],                        {\"template\":{\"data\":{\"barpolar\":[{\"marker\":{\"line\":{\"color\":\"white\",\"width\":0.5},\"pattern\":{\"fillmode\":\"overlay\",\"size\":10,\"solidity\":0.2}},\"type\":\"barpolar\"}],\"bar\":[{\"error_x\":{\"color\":\"#2a3f5f\"},\"error_y\":{\"color\":\"#2a3f5f\"},\"marker\":{\"line\":{\"color\":\"white\",\"width\":0.5},\"pattern\":{\"fillmode\":\"overlay\",\"size\":10,\"solidity\":0.2}},\"type\":\"bar\"}],\"carpet\":[{\"aaxis\":{\"endlinecolor\":\"#2a3f5f\",\"gridcolor\":\"#C8D4E3\",\"linecolor\":\"#C8D4E3\",\"minorgridcolor\":\"#C8D4E3\",\"startlinecolor\":\"#2a3f5f\"},\"baxis\":{\"endlinecolor\":\"#2a3f5f\",\"gridcolor\":\"#C8D4E3\",\"linecolor\":\"#C8D4E3\",\"minorgridcolor\":\"#C8D4E3\",\"startlinecolor\":\"#2a3f5f\"},\"type\":\"carpet\"}],\"choropleth\":[{\"colorbar\":{\"outlinewidth\":0,\"ticks\":\"\"},\"type\":\"choropleth\"}],\"contourcarpet\":[{\"colorbar\":{\"outlinewidth\":0,\"ticks\":\"\"},\"type\":\"contourcarpet\"}],\"contour\":[{\"colorbar\":{\"outlinewidth\":0,\"ticks\":\"\"},\"colorscale\":[[0.0,\"#0d0887\"],[0.1111111111111111,\"#46039f\"],[0.2222222222222222,\"#7201a8\"],[0.3333333333333333,\"#9c179e\"],[0.4444444444444444,\"#bd3786\"],[0.5555555555555556,\"#d8576b\"],[0.6666666666666666,\"#ed7953\"],[0.7777777777777778,\"#fb9f3a\"],[0.8888888888888888,\"#fdca26\"],[1.0,\"#f0f921\"]],\"type\":\"contour\"}],\"heatmapgl\":[{\"colorbar\":{\"outlinewidth\":0,\"ticks\":\"\"},\"colorscale\":[[0.0,\"#0d0887\"],[0.1111111111111111,\"#46039f\"],[0.2222222222222222,\"#7201a8\"],[0.3333333333333333,\"#9c179e\"],[0.4444444444444444,\"#bd3786\"],[0.5555555555555556,\"#d8576b\"],[0.6666666666666666,\"#ed7953\"],[0.7777777777777778,\"#fb9f3a\"],[0.8888888888888888,\"#fdca26\"],[1.0,\"#f0f921\"]],\"type\":\"heatmapgl\"}],\"heatmap\":[{\"colorbar\":{\"outlinewidth\":0,\"ticks\":\"\"},\"colorscale\":[[0.0,\"#0d0887\"],[0.1111111111111111,\"#46039f\"],[0.2222222222222222,\"#7201a8\"],[0.3333333333333333,\"#9c179e\"],[0.4444444444444444,\"#bd3786\"],[0.5555555555555556,\"#d8576b\"],[0.6666666666666666,\"#ed7953\"],[0.7777777777777778,\"#fb9f3a\"],[0.8888888888888888,\"#fdca26\"],[1.0,\"#f0f921\"]],\"type\":\"heatmap\"}],\"histogram2dcontour\":[{\"colorbar\":{\"outlinewidth\":0,\"ticks\":\"\"},\"colorscale\":[[0.0,\"#0d0887\"],[0.1111111111111111,\"#46039f\"],[0.2222222222222222,\"#7201a8\"],[0.3333333333333333,\"#9c179e\"],[0.4444444444444444,\"#bd3786\"],[0.5555555555555556,\"#d8576b\"],[0.6666666666666666,\"#ed7953\"],[0.7777777777777778,\"#fb9f3a\"],[0.8888888888888888,\"#fdca26\"],[1.0,\"#f0f921\"]],\"type\":\"histogram2dcontour\"}],\"histogram2d\":[{\"colorbar\":{\"outlinewidth\":0,\"ticks\":\"\"},\"colorscale\":[[0.0,\"#0d0887\"],[0.1111111111111111,\"#46039f\"],[0.2222222222222222,\"#7201a8\"],[0.3333333333333333,\"#9c179e\"],[0.4444444444444444,\"#bd3786\"],[0.5555555555555556,\"#d8576b\"],[0.6666666666666666,\"#ed7953\"],[0.7777777777777778,\"#fb9f3a\"],[0.8888888888888888,\"#fdca26\"],[1.0,\"#f0f921\"]],\"type\":\"histogram2d\"}],\"histogram\":[{\"marker\":{\"pattern\":{\"fillmode\":\"overlay\",\"size\":10,\"solidity\":0.2}},\"type\":\"histogram\"}],\"mesh3d\":[{\"colorbar\":{\"outlinewidth\":0,\"ticks\":\"\"},\"type\":\"mesh3d\"}],\"parcoords\":[{\"line\":{\"colorbar\":{\"outlinewidth\":0,\"ticks\":\"\"}},\"type\":\"parcoords\"}],\"pie\":[{\"automargin\":true,\"type\":\"pie\"}],\"scatter3d\":[{\"line\":{\"colorbar\":{\"outlinewidth\":0,\"ticks\":\"\"}},\"marker\":{\"colorbar\":{\"outlinewidth\":0,\"ticks\":\"\"}},\"type\":\"scatter3d\"}],\"scattercarpet\":[{\"marker\":{\"colorbar\":{\"outlinewidth\":0,\"ticks\":\"\"}},\"type\":\"scattercarpet\"}],\"scattergeo\":[{\"marker\":{\"colorbar\":{\"outlinewidth\":0,\"ticks\":\"\"}},\"type\":\"scattergeo\"}],\"scattergl\":[{\"marker\":{\"colorbar\":{\"outlinewidth\":0,\"ticks\":\"\"}},\"type\":\"scattergl\"}],\"scattermapbox\":[{\"marker\":{\"colorbar\":{\"outlinewidth\":0,\"ticks\":\"\"}},\"type\":\"scattermapbox\"}],\"scatterpolargl\":[{\"marker\":{\"colorbar\":{\"outlinewidth\":0,\"ticks\":\"\"}},\"type\":\"scatterpolargl\"}],\"scatterpolar\":[{\"marker\":{\"colorbar\":{\"outlinewidth\":0,\"ticks\":\"\"}},\"type\":\"scatterpolar\"}],\"scatter\":[{\"fillpattern\":{\"fillmode\":\"overlay\",\"size\":10,\"solidity\":0.2},\"type\":\"scatter\"}],\"scatterternary\":[{\"marker\":{\"colorbar\":{\"outlinewidth\":0,\"ticks\":\"\"}},\"type\":\"scatterternary\"}],\"surface\":[{\"colorbar\":{\"outlinewidth\":0,\"ticks\":\"\"},\"colorscale\":[[0.0,\"#0d0887\"],[0.1111111111111111,\"#46039f\"],[0.2222222222222222,\"#7201a8\"],[0.3333333333333333,\"#9c179e\"],[0.4444444444444444,\"#bd3786\"],[0.5555555555555556,\"#d8576b\"],[0.6666666666666666,\"#ed7953\"],[0.7777777777777778,\"#fb9f3a\"],[0.8888888888888888,\"#fdca26\"],[1.0,\"#f0f921\"]],\"type\":\"surface\"}],\"table\":[{\"cells\":{\"fill\":{\"color\":\"#EBF0F8\"},\"line\":{\"color\":\"white\"}},\"header\":{\"fill\":{\"color\":\"#C8D4E3\"},\"line\":{\"color\":\"white\"}},\"type\":\"table\"}]},\"layout\":{\"annotationdefaults\":{\"arrowcolor\":\"#2a3f5f\",\"arrowhead\":0,\"arrowwidth\":1},\"autotypenumbers\":\"strict\",\"coloraxis\":{\"colorbar\":{\"outlinewidth\":0,\"ticks\":\"\"}},\"colorscale\":{\"diverging\":[[0,\"#8e0152\"],[0.1,\"#c51b7d\"],[0.2,\"#de77ae\"],[0.3,\"#f1b6da\"],[0.4,\"#fde0ef\"],[0.5,\"#f7f7f7\"],[0.6,\"#e6f5d0\"],[0.7,\"#b8e186\"],[0.8,\"#7fbc41\"],[0.9,\"#4d9221\"],[1,\"#276419\"]],\"sequential\":[[0.0,\"#0d0887\"],[0.1111111111111111,\"#46039f\"],[0.2222222222222222,\"#7201a8\"],[0.3333333333333333,\"#9c179e\"],[0.4444444444444444,\"#bd3786\"],[0.5555555555555556,\"#d8576b\"],[0.6666666666666666,\"#ed7953\"],[0.7777777777777778,\"#fb9f3a\"],[0.8888888888888888,\"#fdca26\"],[1.0,\"#f0f921\"]],\"sequentialminus\":[[0.0,\"#0d0887\"],[0.1111111111111111,\"#46039f\"],[0.2222222222222222,\"#7201a8\"],[0.3333333333333333,\"#9c179e\"],[0.4444444444444444,\"#bd3786\"],[0.5555555555555556,\"#d8576b\"],[0.6666666666666666,\"#ed7953\"],[0.7777777777777778,\"#fb9f3a\"],[0.8888888888888888,\"#fdca26\"],[1.0,\"#f0f921\"]]},\"colorway\":[\"#636efa\",\"#EF553B\",\"#00cc96\",\"#ab63fa\",\"#FFA15A\",\"#19d3f3\",\"#FF6692\",\"#B6E880\",\"#FF97FF\",\"#FECB52\"],\"font\":{\"color\":\"#2a3f5f\"},\"geo\":{\"bgcolor\":\"white\",\"lakecolor\":\"white\",\"landcolor\":\"white\",\"showlakes\":true,\"showland\":true,\"subunitcolor\":\"#C8D4E3\"},\"hoverlabel\":{\"align\":\"left\"},\"hovermode\":\"closest\",\"mapbox\":{\"style\":\"light\"},\"paper_bgcolor\":\"white\",\"plot_bgcolor\":\"white\",\"polar\":{\"angularaxis\":{\"gridcolor\":\"#EBF0F8\",\"linecolor\":\"#EBF0F8\",\"ticks\":\"\"},\"bgcolor\":\"white\",\"radialaxis\":{\"gridcolor\":\"#EBF0F8\",\"linecolor\":\"#EBF0F8\",\"ticks\":\"\"}},\"scene\":{\"xaxis\":{\"backgroundcolor\":\"white\",\"gridcolor\":\"#DFE8F3\",\"gridwidth\":2,\"linecolor\":\"#EBF0F8\",\"showbackground\":true,\"ticks\":\"\",\"zerolinecolor\":\"#EBF0F8\"},\"yaxis\":{\"backgroundcolor\":\"white\",\"gridcolor\":\"#DFE8F3\",\"gridwidth\":2,\"linecolor\":\"#EBF0F8\",\"showbackground\":true,\"ticks\":\"\",\"zerolinecolor\":\"#EBF0F8\"},\"zaxis\":{\"backgroundcolor\":\"white\",\"gridcolor\":\"#DFE8F3\",\"gridwidth\":2,\"linecolor\":\"#EBF0F8\",\"showbackground\":true,\"ticks\":\"\",\"zerolinecolor\":\"#EBF0F8\"}},\"shapedefaults\":{\"line\":{\"color\":\"#2a3f5f\"}},\"ternary\":{\"aaxis\":{\"gridcolor\":\"#DFE8F3\",\"linecolor\":\"#A2B1C6\",\"ticks\":\"\"},\"baxis\":{\"gridcolor\":\"#DFE8F3\",\"linecolor\":\"#A2B1C6\",\"ticks\":\"\"},\"bgcolor\":\"white\",\"caxis\":{\"gridcolor\":\"#DFE8F3\",\"linecolor\":\"#A2B1C6\",\"ticks\":\"\"}},\"title\":{\"x\":0.05},\"xaxis\":{\"automargin\":true,\"gridcolor\":\"#EBF0F8\",\"linecolor\":\"#EBF0F8\",\"ticks\":\"\",\"title\":{\"standoff\":15},\"zerolinecolor\":\"#EBF0F8\",\"zerolinewidth\":2},\"yaxis\":{\"automargin\":true,\"gridcolor\":\"#EBF0F8\",\"linecolor\":\"#EBF0F8\",\"ticks\":\"\",\"title\":{\"standoff\":15},\"zerolinecolor\":\"#EBF0F8\",\"zerolinewidth\":2}}},\"geo\":{\"domain\":{\"x\":[0.0,1.0],\"y\":[0.0,1.0]},\"center\":{}},\"coloraxis\":{\"colorbar\":{\"title\":{\"text\":\"Population 2024\"}},\"colorscale\":[[0.0,\"#0d0887\"],[0.1111111111111111,\"#46039f\"],[0.2222222222222222,\"#7201a8\"],[0.3333333333333333,\"#9c179e\"],[0.4444444444444444,\"#bd3786\"],[0.5555555555555556,\"#d8576b\"],[0.6666666666666666,\"#ed7953\"],[0.7777777777777778,\"#fb9f3a\"],[0.8888888888888888,\"#fdca26\"],[1.0,\"#f0f921\"]]},\"legend\":{\"tracegroupgap\":0},\"title\":{\"text\":\"World Population 2024\"}},                        {\"responsive\": true}                    ).then(function(){\n",
       "                            \n",
       "var gd = document.getElementById('1fdd7bde-8f2f-4197-8e45-fca8baad5d94');\n",
       "var x = new MutationObserver(function (mutations, observer) {{\n",
       "        var display = window.getComputedStyle(gd).display;\n",
       "        if (!display || display === 'none') {{\n",
       "            console.log([gd, 'removed!']);\n",
       "            Plotly.purge(gd);\n",
       "            observer.disconnect();\n",
       "        }}\n",
       "}});\n",
       "\n",
       "// Listen for the removal of the full notebook cells\n",
       "var notebookContainer = gd.closest('#notebook-container');\n",
       "if (notebookContainer) {{\n",
       "    x.observe(notebookContainer, {childList: true});\n",
       "}}\n",
       "\n",
       "// Listen for the clearing of the current output cell\n",
       "var outputEl = gd.closest('.output');\n",
       "if (outputEl) {{\n",
       "    x.observe(outputEl, {childList: true});\n",
       "}}\n",
       "\n",
       "                        })                };                });            </script>        </div>"
      ]
     },
     "metadata": {},
     "output_type": "display_data"
    }
   ],
   "source": [
    "fig = px.choropleth(df, \n",
    "                    locations='Country',\n",
    "                    locationmode='country names',\n",
    "                    color='Population 2024',\n",
    "                    hover_name='Country',\n",
    "                    hover_data=['Population 2023', 'Area (km2)', 'Density (/km2)', 'Growth Rate', 'World %', 'World Rank'],\n",
    "                    color_continuous_scale=px.colors.sequential.Plasma,\n",
    "                    title='World Population 2024')\n",
    "fig.update_layout(template='plotly_white')\n",
    "fig.show()"
   ]
  },
  {
   "cell_type": "code",
   "execution_count": 9,
   "id": "1666f6a7",
   "metadata": {
    "execution": {
     "iopub.execute_input": "2024-07-06T13:03:21.900785Z",
     "iopub.status.busy": "2024-07-06T13:03:21.900351Z",
     "iopub.status.idle": "2024-07-06T13:03:22.051326Z",
     "shell.execute_reply": "2024-07-06T13:03:22.050112Z"
    },
    "papermill": {
     "duration": 0.161792,
     "end_time": "2024-07-06T13:03:22.054276",
     "exception": false,
     "start_time": "2024-07-06T13:03:21.892484",
     "status": "completed"
    },
    "tags": []
   },
   "outputs": [
    {
     "data": {
      "text/html": [
       "<div>                            <div id=\"58c1671c-4e66-41e1-8ff8-31751a9ec578\" class=\"plotly-graph-div\" style=\"height:900px; width:100%;\"></div>            <script type=\"text/javascript\">                require([\"plotly\"], function(Plotly) {                    window.PLOTLYENV=window.PLOTLYENV || {};                                    if (document.getElementById(\"58c1671c-4e66-41e1-8ff8-31751a9ec578\")) {                    Plotly.newPlot(                        \"58c1671c-4e66-41e1-8ff8-31751a9ec578\",                        [{\"customdata\":[[1441719852,1428627663,\"3M\",485.0,0.1801],[1425178782,1425671352,\"9.4M\",151.0,0.178],[341814420,339996563,\"9.1M\",37.0,0.0427],[279798049,277534122,\"1.9M\",149.0,0.035],[245209815,240485658,\"770.9K\",318.0,0.0306],[229152217,223804632,\"910.8K\",252.0,0.0286],[217637297,216422446,\"8.4M\",26.0,0.0272],[174701211,172954319,\"130.2K\",1342.0,0.0218],[143957079,144444359,\"16.4M\",9.0,0.018],[129719719,126527060,\"1.1M\",115.0,0.0162],[129388467,128455567,\"1.9M\",67.0,0.0162],[122631432,123294513,\"364.5K\",336.0,0.0153],[119106224,117337368,\"298.2K\",399.0,0.0149],[114484252,112716598,\"1M\",115.0,0.0143],[105625114,102262808,\"2.3M\",47.0,0.0132],[99497680,98858950,\"313.4K\",317.0,0.0124],[89809781,89172767,\"1.6M\",55.0,0.0112],[86260417,85816199,\"783.6K\",110.0,0.0108],[83252474,83294633,\"349.4K\",238.0,0.0104],[71885799,71801279,\"510.9K\",141.0,0.009],[69419073,67438106,\"885.8K\",78.0,0.0087],[67961439,67736802,\"241.9K\",281.0,0.0085],[64881830,64756584,\"547.6K\",118.0,0.0081],[61020221,60414495,\"1.2M\",50.0,0.0076],[58697744,58870762,\"295.7K\",198.0,0.0073],[56203030,55100586,\"569.1K\",99.0,0.007],[54964694,54577997,\"652.7K\",84.0,0.0069],[52340774,52085168,\"1.1M\",47.0,0.0065],[51741963,51784059,\"97.6K\",530.0,0.0065],[49924252,48582334,\"200.5K\",249.0,0.0062],[49358228,48109006,\"1.9M\",26.0,0.0062],[47473373,47519628,\"499.6K\",95.0,0.0059],[46523657,45504560,\"434.1K\",107.0,0.0058],[46278751,45606480,\"2.4M\",19.0,0.0058],[46057866,45773884,\"2.7M\",17.0,0.0058],[43372950,42239854,\"652.2K\",66.0,0.0054],[40221726,41026067,\"306.1K\",131.0,0.005],[39107046,38781291,\"9M\",4.0,0.0049],[38211459,37840044,\"446.3K\",86.0,0.0048],[37937821,36744634,\"579.4K\",65.0,0.0047],[37804634,36684202,\"1.2M\",30.0,0.0047],[37473929,36947025,\"2.1M\",17.0,0.0047],[35673804,35163944,\"440.6K\",81.0,0.0045],[35219853,34449825,\"528K\",67.0,0.0044],[34858402,33897354,\"786.4K\",44.0,0.0044],[34777522,34121985,\"227.5K\",153.0,0.0043],[34683444,34352719,\"1.3M\",27.0,0.0043],[34671895,34308525,\"328.6K\",106.0,0.0043],[31240315,30896590,\"143.3K\",218.0,0.0039],[31056610,30325732,\"581.8K\",53.0,0.0039],[29603302,28873034,\"318K\",93.0,0.0037],[29395334,28838499,\"882K\",33.0,0.0037],[29394433,28647293,\"472.7K\",62.0,0.0037],[28238972,27202843,\"1.3M\",22.0,0.0035],[26699482,26439111,\"7.7M\",3.0,0.0033],[26244582,26160821,\"120.4K\",218.0,0.0033],[24348053,23227014,\"183.6K\",133.0,0.003],[24015789,23293698,\"1.2M\",20.0,0.003],[23950214,23923276,\"36.2K\",662.0,0.003],[23840247,23251485,\"273.6K\",87.0,0.003],[21949268,21893579,\"61.9K\",355.0,0.0027],[21475962,20931751,\"94.3K\",228.0,0.0027],[21134695,20569737,\"743.4K\",28.0,0.0026],[19828165,19606633,\"2.7M\",7.0,0.0025],[19658839,19629590,\"743.5K\",26.0,0.0025],[19618996,19892812,\"230.1K\",85.0,0.0025],[18847148,18278568,\"1.3M\",15.0,0.0024],[18706922,18143378,\"627.3K\",30.0,0.0023],[18377367,18190484,\"248.4K\",74.0,0.0023],[18358430,18092026,\"107.2K\",171.0,0.0023],[18221567,17763163,\"192.5K\",95.0,0.0023],[17671125,17618299,\"33.7K\",525.0,0.0022],[17121847,16944826,\"176.5K\",97.0,0.0021],[17020321,16665409,\"386.9K\",44.0,0.0021],[14528770,14190612,\"245.7K\",59.0,0.0018],[14414910,14094683,\"24.7K\",584.0,0.0018],[14080072,13712828,\"112.8K\",125.0,0.0018],[13591657,13238559,\"25.7K\",529.0,0.0017],[12567336,12388571,\"1.1M\",12.0,0.0016],[12564689,12458223,\"155.4K\",81.0,0.0016],[11867030,11724763,\"27.6K\",431.0,0.0015],[11715774,11686140,\"30.3K\",387.0,0.0015],[11434005,11332972,\"48.3K\",237.0,0.0014],[11384922,11337052,\"88.8K\",128.0,0.0014],[11277092,11088796,\"631.9K\",18.0,0.0014],[11174587,11194449,\"103.8K\",108.0,0.0014],[10759406,10593798,\"111.9K\",96.0,0.0013],[10673669,10612086,\"407.3K\",26.0,0.0013],[10515788,10329931,\"452.9K\",23.0,0.0013],[10503734,10495295,\"77.2K\",136.0,0.0013],[10462904,10412651,\"82.6K\",127.0,0.0013],[10331513,10143543,\"138.8K\",74.0,0.0013],[10302720,10341277,\"128.9K\",80.0,0.0013],[10223349,10247605,\"91.6K\",112.0,0.0013],[9994993,10156239,\"91.3K\",110.0,0.0012],[9591853,9516871,\"71K\",135.0,0.0012],[9455037,9498238,\"203K\",47.0,0.0012],[9311652,9174520,\"21.6K\",430.0,0.0012],[9260864,9053799,\"54.4K\",170.0,0.0012],[8977972,8791092,\"72.2K\",124.0,0.0011],[8977139,8958960,\"82.5K\",109.0,0.0011],[8851431,8796669,\"39.5K\",224.0,0.0011],[7736681,7633779,\"230.8K\",34.0,0.001],[7496681,7491609,\"1.1K\",7140.0,0.0009],[7142529,7046310,\"120.3K\",59.0,0.0009],[7097028,7149077,\"87.5K\",81.0,0.0009],[6964197,6888388,\"1.8M\",4.0,0.0009],[6947270,6861524,\"397.3K\",17.0,0.0009],[6839606,6735347,\"191.8K\",36.0,0.0009],[6618615,6687717,\"108.6K\",61.0,0.0008],[6598071,6516100,\"469.9K\",14.0,0.0008],[6396289,6364943,\"20.7K\",309.0,0.0008],[6244547,6106869,\"341.5K\",18.0,0.0008],[6052709,6014723,\"718\",8430.0,0.0008],[5939695,5910913,\"40K\",148.0,0.0007],[5915627,5742315,\"623K\",9.0,0.0007],[5702832,5795199,\"49K\",116.0,0.0007],[5549886,5545475,\"303.9K\",18.0,0.0007],[5536949,5418377,\"96.3K\",57.0,0.0007],[5514477,5474360,\"364.3K\",15.0,0.0007],[5494963,5371230,\"6K\",913.0,0.0007],[5269939,5228100,\"263.3K\",20.0,0.0007],[5246714,5212173,\"51.1K\",103.0,0.0007],[5219044,5353930,\"10.2K\",510.0,0.0007],[5089478,5056935,\"68.9K\",74.0,0.0006],[4993922,4862989,\"1M\",5.0,0.0006],[4713553,4644384,\"309.5K\",15.0,0.0006],[4527961,4468087,\"74.2K\",61.0,0.0006],[4349380,4310108,\"17.8K\",244.0,0.0005],[3986627,4008617,\"56K\",71.0,0.0005],[3817651,3748901,\"121K\",32.0,0.0005],[3717425,3728282,\"69.5K\",53.0,0.0005],[3493629,3447157,\"1.6M\",2.0,0.0004],[3423316,3423108,\"175K\",20.0,0.0004],[3329865,3435931,\"32.9K\",101.0,0.0004],[3268802,3260314,\"8.9K\",369.0,0.0004],[3194378,3210847,\"51.2K\",62.0,0.0004],[2841803,2773168,\"10.1K\",281.0,0.0004],[2826020,2832439,\"27.4K\",103.0,0.0004],[2824738,2825544,\"10.8K\",261.0,0.0004],[2777979,2777970,\"28.5K\",98.0,0.0003],[2737061,2716391,\"11.5K\",238.0,0.0003],[2719694,2675352,\"566.7K\",5.0,0.0003],[2692798,2718352,\"62.6K\",43.0,0.0003],[2645805,2604172,\"823.3K\",3.0,0.0003],[2484557,2436566,\"257.7K\",10.0,0.0003],[2356083,2330318,\"30.4K\",78.0,0.0003],[2197149,2150842,\"28.1K\",78.0,0.0003],[2118965,2119675,\"20.1K\",105.0,0.0003],[2082706,2085679,\"25.2K\",83.0,0.0003],[1810240,1830211,\"62.2K\",29.0,0.0002],[1754993,1714671,\"28.1K\",63.0,0.0002],[1538200,1534937,\"5.1K\",300.0,0.0002],[1498712,1485509,\"785\",1909.0,0.0002],[1379883,1360596,\"14.9K\",93.0,0.0002],[1319041,1322765,\"42.8K\",31.0,0.0002],[1301978,1300557,\"2K\",641.0,0.0002],[1268467,1260138,\"9.2K\",137.0,0.0002],[1222075,1210822,\"17.2K\",71.0,0.0002],[1152329,1136455,\"23.2K\",50.0,0.0001],[989350,981796,\"2.5K\",394.0,0.0001],[943072,936375,\"18.3K\",52.0,0.0001],[867605,852075,\"1.9K\",466.0,0.0001],[819594,813834,\"196.8K\",4.0,0.0001],[792382,787424,\"38.1K\",21.0,0.0001],[756673,740424,\"28K\",27.0,0.0001],[713082,704149,\"33\",21674.0,0.0001],[661594,654768,\"2.6K\",257.0,0.0001],[628785,623236,\"156K\",4.0,0.0001],[626102,626485,\"13.4K\",47.0,0.0001],[604461,598682,\"4K\",150.0,0.0001],[598385,587259,\"266K\",2.0,0.0001],[536740,535064,\"320\",1677.0,0.0001],[517887,521021,\"300\",1726.0,0.0001],[455858,452524,\"5.3K\",87.0,0.0001],[416656,410825,\"22.8K\",18.0,0.0001],[415223,412623,\"10K\",41.0,0.0001],[396346,395839,\"1.6K\",243.0,0.0],[377689,375318,\"100.8K\",4.0,0.0],[366416,366981,\"1.1K\",325.0,0.0],[345996,335995,\"374\",925.0,0.0],[342325,334506,\"12.2K\",28.0,0.0],[319796,312155,\"83.5K\",4.0,0.0],[311383,308872,\"3.5K\",90.0,0.0],[295966,292991,\"18.3K\",16.0,0.0],[282309,281995,\"430\",657.0,0.0],[236381,231856,\"960\",246.0,0.0],[228966,225681,\"2.8K\",82.0,0.0],[192965,192077,\"444\",435.0,0.0],[180805,180251,\"610\",296.0,0.0],[174114,172952,\"540\",322.0,0.0],[135763,133515,\"810\",168.0,0.0],[126887,126183,\"340\",373.0,0.0],[116300,115224,\"700\",166.0,0.0],[112843,111802,\"120\",940.0,0.0],[108683,107773,\"720\",151.0,0.0],[108263,107660,\"460\",235.0,0.0],[106177,106277,\"180\",590.0,0.0],[103683,103698,\"390\",266.0,0.0],[98055,98750,\"347\",283.0,0.0],[94816,94298,\"440\",215.0,0.0],[84904,84710,\"570\",149.0,0.0],[80341,80088,\"470\",171.0,0.0],[73368,73040,\"750\",98.0,0.0],[69885,69310,\"240\",291.0,0.0],[63935,64069,\"54\",1184.0,0.0],[63788,63544,\"63\",1013.0,0.0],[56789,56643,\"410.4K\",0.14,0.0],[53444,53270,\"1.4K\",39.0,0.0],[50025,49796,\"460\",109.0,0.0],[47847,47755,\"260\",184.0,0.0],[46431,46062,\"948\",49.0,0.0],[44309,44222,\"34\",1303.0,0.0],[43544,43914,\"200\",218.0,0.0],[42415,41996,\"180\",236.0,0.0],[39822,39584,\"160\",249.0,0.0],[36157,36297,\"2\",18079.0,0.0],[33614,33642,\"60\",560.0,0.0],[32718,32688,\"7\",4811.0,0.0],[32337,32077,\"50\",647.0,0.0],[31763,31538,\"150\",212.0,0.0],[18051,18058,\"460\",39.0,0.0],[17072,17044,\"240\",71.0,0.0],[15936,15899,\"91\",175.0,0.0],[12884,12780,\"20\",644.0,0.0],[11478,11396,\"30\",383.0,0.0],[11439,11502,\"274\",42.0,0.0],[11019,10994,\"25\",441.0,0.0],[5815,5840,\"242\",24.0,null],[4372,4386,\"102\",43.0,null],[3803,3791,\"12.2K\",0.31,null],[1935,1935,\"261\",7.0,null],[1915,1893,\"10\",192.0,null],[526,518,\"\\u003c 1\",1195.0,null]],\"hovertemplate\":\"\\u003cb\\u003e%{hovertext}\\u003c\\u002fb\\u003e\\u003cbr\\u003e\\u003cbr\\u003eWorld Rank=%{x}\\u003cbr\\u003eGrowth Rate=%{marker.color}\\u003cbr\\u003ePopulation 2024=%{customdata[0]}\\u003cbr\\u003ePopulation 2023=%{customdata[1]}\\u003cbr\\u003eArea (km2)=%{customdata[2]}\\u003cbr\\u003eDensity (\\u002fkm2)=%{customdata[3]}\\u003cbr\\u003eWorld %=%{customdata[4]}\\u003cextra\\u003e\\u003c\\u002fextra\\u003e\",\"hovertext\":[\"India\",\"China\",\"United States\",\"Indonesia\",\"Pakistan\",\"Nigeria\",\"Brazil\",\"Bangladesh\",\"Russia\",\"Ethiopia\",\"Mexico\",\"Japan\",\"Philippines\",\"Egypt\",\"DR Congo\",\"Vietnam\",\"Iran\",\"Turkey\",\"Germany\",\"Thailand\",\"Tanzania\",\"United Kingdom\",\"France\",\"South Africa\",\"Italy\",\"Kenya\",\"Myanmar\",\"Colombia\",\"South Korea\",\"Uganda\",\"Sudan\",\"Spain\",\"Iraq\",\"Algeria\",\"Argentina\",\"Afghanistan\",\"Poland\",\"Canada\",\"Morocco\",\"Ukraine\",\"Angola\",\"Saudi Arabia\",\"Uzbekistan\",\"Yemen\",\"Mozambique\",\"Ghana\",\"Peru\",\"Malaysia\",\"Nepal\",\"Madagascar\",\"Ivory Coast\",\"Venezuela\",\"Cameroon\",\"Niger\",\"Australia\",\"North Korea\",\"Syria\",\"Mali\",\"Taiwan\",\"Burkina Faso\",\"Sri Lanka\",\"Malawi\",\"Zambia\",\"Kazakhstan\",\"Chile\",\"Romania\",\"Chad\",\"Somalia\",\"Ecuador\",\"Guatemala\",\"Senegal\",\"Netherlands\",\"Cambodia\",\"Zimbabwe\",\"Guinea\",\"Rwanda\",\"Benin\",\"Burundi\",\"Bolivia\",\"Tunisia\",\"Haiti\",\"Belgium\",\"Dominican Republic\",\"Jordan\",\"South Sudan\",\"Cuba\",\"Honduras\",\"Sweden\",\"Papua New Guinea\",\"Czech Republic\",\"Azerbaijan\",\"Tajikistan\",\"Greece\",\"Portugal\",\"Hungary\",\"United Arab Emirates\",\"Belarus\",\"Israel\",\"Togo\",\"Sierra Leone\",\"Austria\",\"Switzerland\",\"Laos\",\"Hong Kong\",\"Nicaragua\",\"Serbia\",\"Libya\",\"Paraguay\",\"Kyrgyzstan\",\"Bulgaria\",\"Turkmenistan\",\"El Salvador\",\"Republic of the Congo\",\"Singapore\",\"Denmark\",\"Central African Republic\",\"Slovakia\",\"Finland\",\"Liberia\",\"Norway\",\"Palestine\",\"New Zealand\",\"Costa Rica\",\"Lebanon\",\"Ireland\",\"Mauritania\",\"Oman\",\"Panama\",\"Kuwait\",\"Croatia\",\"Eritrea\",\"Georgia\",\"Mongolia\",\"Uruguay\",\"Moldova\",\"Puerto Rico\",\"Bosnia and Herzegovina\",\"Gambia\",\"Albania\",\"Jamaica\",\"Armenia\",\"Qatar\",\"Botswana\",\"Lithuania\",\"Namibia\",\"Gabon\",\"Lesotho\",\"Guinea Bissau\",\"Slovenia\",\"North Macedonia\",\"Latvia\",\"Equatorial Guinea\",\"Trinidad and Tobago\",\"Bahrain\",\"Timor Leste\",\"Estonia\",\"Mauritius\",\"Cyprus\",\"Eswatini\",\"Djibouti\",\"Reunion\",\"Fiji\",\"Comoros\",\"Guyana\",\"Bhutan\",\"Solomon Islands\",\"Macau\",\"Luxembourg\",\"Suriname\",\"Montenegro\",\"Cape Verde\",\"Western Sahara\",\"Malta\",\"Maldives\",\"Brunei\",\"Belize\",\"Bahamas\",\"Guadeloupe\",\"Iceland\",\"Martinique\",\"Mayotte\",\"Vanuatu\",\"French Guiana\",\"French Polynesia\",\"New Caledonia\",\"Barbados\",\"Sao Tome and Principe\",\"Samoa\",\"Curacao\",\"Saint Lucia\",\"Guam\",\"Kiribati\",\"Grenada\",\"Micronesia\",\"Jersey\",\"Tonga\",\"Seychelles\",\"Aruba\",\"Saint Vincent and the Grenadines\",\"United States Virgin Islands\",\"Antigua and Barbuda\",\"Isle of Man\",\"Andorra\",\"Dominica\",\"Cayman Islands\",\"Bermuda\",\"Guernsey\",\"Greenland\",\"Faroe Islands\",\"Northern Mariana Islands\",\"Saint Kitts and Nevis\",\"Turks and Caicos Islands\",\"Sint Maarten\",\"American Samoa\",\"Marshall Islands\",\"Liechtenstein\",\"Monaco\",\"San Marino\",\"Gibraltar\",\"Saint Martin\",\"British Virgin Islands\",\"Palau\",\"Cook Islands\",\"Anguilla\",\"Nauru\",\"Tuvalu\",\"Wallis and Futuna\",\"Saint Barthelemy\",\"Saint Pierre and Miquelon\",\"Montserrat\",\"Falkland Islands\",\"Niue\",\"Tokelau\",\"Vatican City\"],\"legendgroup\":\"\",\"marker\":{\"color\":[0.0092,-0.0003,0.0053,0.0082,0.0196,0.0239,0.0056,0.0101,-0.0034,0.0252,0.0073,-0.0054,0.0151,0.0157,0.0329,0.0065,0.0071,0.0052,-0.0005,0.0012,0.0294,0.0033,0.0019,0.01,-0.0029,0.02,0.0071,0.0049,-0.0008,0.0276,0.026,-0.001,0.0224,0.0147,0.0062,0.0268,-0.0196,0.0084,0.0098,0.0325,0.0305,0.0143,0.0145,0.0224,0.0284,0.0192,0.0096,0.0106,0.0111,0.0241,0.0253,0.0193,0.0261,0.0381,0.0098,0.0032,0.0483,0.031,0.0011,0.0253,0.0025,0.026,0.0275,0.0113,0.0015,-0.0138,0.0311,0.0311,0.0103,0.0147,0.0258,0.003,0.0104,0.0213,0.0238,0.0227,0.0268,0.0267,0.0144,0.0085,0.0121,0.0025,0.0089,0.0042,0.017,-0.0018,0.0156,0.0058,0.018,0.0008,0.0048,0.0185,-0.0037,-0.0024,-0.0159,0.0079,-0.0045,0.0149,0.0229,0.0213,0.002,0.0062,0.0135,0.0007,0.0137,-0.0073,0.011,0.0125,0.0155,-0.0103,0.0126,0.0049,0.0225,0.0063,0.0049,0.0302,-0.0159,0.0008,0.0219,0.0073,0.023,0.008,0.0066,-0.0252,0.0064,0.0269,0.0149,0.0134,0.0091,-0.0055,0.0183,-0.0029,0.0135,0.0001,-0.0309,0.0026,-0.0051,0.0247,-0.0023,-0.0003,0.0,0.0076,0.0166,-0.0094,0.016,0.0197,0.0111,0.0215,-0.0003,-0.0014,-0.0109,0.0235,0.0021,0.0089,0.0142,-0.0028,0.0011,0.0066,0.0093,0.014,0.0077,0.0072,0.0182,0.0071,0.0063,0.0219,0.0127,0.0104,0.0089,-0.0006,0.0097,0.0189,0.0031,-0.006,0.0074,0.0142,0.0063,0.0013,0.0063,-0.0015,0.0298,0.0234,0.0245,0.0081,0.0102,0.0011,0.0195,0.0146,0.0046,0.0031,0.0067,0.0168,0.0056,0.0093,0.0093,0.0084,0.0056,-0.0009,-0.0001,-0.007,0.0055,0.0023,0.0032,0.0045,0.0083,-0.0021,0.0038,0.0026,0.0033,0.0046,0.0019,0.008,0.002,-0.0084,0.01,0.006,-0.0039,-0.0008,0.0009,0.0081,0.0071,-0.0004,0.0016,0.0023,0.0081,0.0072,-0.0055,0.0023,-0.0043,-0.0032,0.0032,0.0,0.0116,0.0154],\"coloraxis\":\"coloraxis\",\"symbol\":\"circle\"},\"mode\":\"markers\",\"name\":\"\",\"orientation\":\"v\",\"showlegend\":false,\"x\":[1,2,3,4,5,6,7,8,9,10,11,12,13,14,15,16,17,18,19,20,21,22,23,24,25,26,27,28,29,30,31,32,33,34,35,36,37,38,39,40,41,42,43,44,45,46,47,48,49,50,51,52,53,54,55,56,57,58,59,60,61,62,63,64,65,66,67,68,69,70,71,72,73,74,75,76,77,78,79,80,81,82,83,84,85,86,87,88,89,90,91,92,93,94,95,96,97,98,99,100,101,102,103,104,105,106,107,108,109,110,111,112,113,114,115,116,117,118,119,120,121,122,123,124,125,126,127,128,129,130,131,132,133,134,135,136,137,138,139,140,141,142,143,144,145,146,147,148,149,150,151,152,153,154,155,156,157,158,159,160,161,162,163,164,165,166,167,168,169,170,171,172,173,174,175,176,177,178,179,180,181,182,183,184,185,186,187,188,189,190,191,192,193,194,195,196,197,198,199,200,201,202,203,204,205,206,207,208,209,210,211,212,213,214,215,216,217,218,219,220,221,222,223,224,225,226,227,228,229,230,231,232,233,234],\"xaxis\":\"x\",\"y\":[0.0092,-0.0003,0.0053,0.0082,0.0196,0.0239,0.0056,0.0101,-0.0034,0.0252,0.0073,-0.0054,0.0151,0.0157,0.0329,0.0065,0.0071,0.0052,-0.0005,0.0012,0.0294,0.0033,0.0019,0.01,-0.0029,0.02,0.0071,0.0049,-0.0008,0.0276,0.026,-0.001,0.0224,0.0147,0.0062,0.0268,-0.0196,0.0084,0.0098,0.0325,0.0305,0.0143,0.0145,0.0224,0.0284,0.0192,0.0096,0.0106,0.0111,0.0241,0.0253,0.0193,0.0261,0.0381,0.0098,0.0032,0.0483,0.031,0.0011,0.0253,0.0025,0.026,0.0275,0.0113,0.0015,-0.0138,0.0311,0.0311,0.0103,0.0147,0.0258,0.003,0.0104,0.0213,0.0238,0.0227,0.0268,0.0267,0.0144,0.0085,0.0121,0.0025,0.0089,0.0042,0.017,-0.0018,0.0156,0.0058,0.018,0.0008,0.0048,0.0185,-0.0037,-0.0024,-0.0159,0.0079,-0.0045,0.0149,0.0229,0.0213,0.002,0.0062,0.0135,0.0007,0.0137,-0.0073,0.011,0.0125,0.0155,-0.0103,0.0126,0.0049,0.0225,0.0063,0.0049,0.0302,-0.0159,0.0008,0.0219,0.0073,0.023,0.008,0.0066,-0.0252,0.0064,0.0269,0.0149,0.0134,0.0091,-0.0055,0.0183,-0.0029,0.0135,0.0001,-0.0309,0.0026,-0.0051,0.0247,-0.0023,-0.0003,0.0,0.0076,0.0166,-0.0094,0.016,0.0197,0.0111,0.0215,-0.0003,-0.0014,-0.0109,0.0235,0.0021,0.0089,0.0142,-0.0028,0.0011,0.0066,0.0093,0.014,0.0077,0.0072,0.0182,0.0071,0.0063,0.0219,0.0127,0.0104,0.0089,-0.0006,0.0097,0.0189,0.0031,-0.006,0.0074,0.0142,0.0063,0.0013,0.0063,-0.0015,0.0298,0.0234,0.0245,0.0081,0.0102,0.0011,0.0195,0.0146,0.0046,0.0031,0.0067,0.0168,0.0056,0.0093,0.0093,0.0084,0.0056,-0.0009,-0.0001,-0.007,0.0055,0.0023,0.0032,0.0045,0.0083,-0.0021,0.0038,0.0026,0.0033,0.0046,0.0019,0.008,0.002,-0.0084,0.01,0.006,-0.0039,-0.0008,0.0009,0.0081,0.0071,-0.0004,0.0016,0.0023,0.0081,0.0072,-0.0055,0.0023,-0.0043,-0.0032,0.0032,0.0,0.0116,0.0154],\"yaxis\":\"y\",\"type\":\"scatter\"}],                        {\"template\":{\"data\":{\"barpolar\":[{\"marker\":{\"line\":{\"color\":\"white\",\"width\":0.5},\"pattern\":{\"fillmode\":\"overlay\",\"size\":10,\"solidity\":0.2}},\"type\":\"barpolar\"}],\"bar\":[{\"error_x\":{\"color\":\"#2a3f5f\"},\"error_y\":{\"color\":\"#2a3f5f\"},\"marker\":{\"line\":{\"color\":\"white\",\"width\":0.5},\"pattern\":{\"fillmode\":\"overlay\",\"size\":10,\"solidity\":0.2}},\"type\":\"bar\"}],\"carpet\":[{\"aaxis\":{\"endlinecolor\":\"#2a3f5f\",\"gridcolor\":\"#C8D4E3\",\"linecolor\":\"#C8D4E3\",\"minorgridcolor\":\"#C8D4E3\",\"startlinecolor\":\"#2a3f5f\"},\"baxis\":{\"endlinecolor\":\"#2a3f5f\",\"gridcolor\":\"#C8D4E3\",\"linecolor\":\"#C8D4E3\",\"minorgridcolor\":\"#C8D4E3\",\"startlinecolor\":\"#2a3f5f\"},\"type\":\"carpet\"}],\"choropleth\":[{\"colorbar\":{\"outlinewidth\":0,\"ticks\":\"\"},\"type\":\"choropleth\"}],\"contourcarpet\":[{\"colorbar\":{\"outlinewidth\":0,\"ticks\":\"\"},\"type\":\"contourcarpet\"}],\"contour\":[{\"colorbar\":{\"outlinewidth\":0,\"ticks\":\"\"},\"colorscale\":[[0.0,\"#0d0887\"],[0.1111111111111111,\"#46039f\"],[0.2222222222222222,\"#7201a8\"],[0.3333333333333333,\"#9c179e\"],[0.4444444444444444,\"#bd3786\"],[0.5555555555555556,\"#d8576b\"],[0.6666666666666666,\"#ed7953\"],[0.7777777777777778,\"#fb9f3a\"],[0.8888888888888888,\"#fdca26\"],[1.0,\"#f0f921\"]],\"type\":\"contour\"}],\"heatmapgl\":[{\"colorbar\":{\"outlinewidth\":0,\"ticks\":\"\"},\"colorscale\":[[0.0,\"#0d0887\"],[0.1111111111111111,\"#46039f\"],[0.2222222222222222,\"#7201a8\"],[0.3333333333333333,\"#9c179e\"],[0.4444444444444444,\"#bd3786\"],[0.5555555555555556,\"#d8576b\"],[0.6666666666666666,\"#ed7953\"],[0.7777777777777778,\"#fb9f3a\"],[0.8888888888888888,\"#fdca26\"],[1.0,\"#f0f921\"]],\"type\":\"heatmapgl\"}],\"heatmap\":[{\"colorbar\":{\"outlinewidth\":0,\"ticks\":\"\"},\"colorscale\":[[0.0,\"#0d0887\"],[0.1111111111111111,\"#46039f\"],[0.2222222222222222,\"#7201a8\"],[0.3333333333333333,\"#9c179e\"],[0.4444444444444444,\"#bd3786\"],[0.5555555555555556,\"#d8576b\"],[0.6666666666666666,\"#ed7953\"],[0.7777777777777778,\"#fb9f3a\"],[0.8888888888888888,\"#fdca26\"],[1.0,\"#f0f921\"]],\"type\":\"heatmap\"}],\"histogram2dcontour\":[{\"colorbar\":{\"outlinewidth\":0,\"ticks\":\"\"},\"colorscale\":[[0.0,\"#0d0887\"],[0.1111111111111111,\"#46039f\"],[0.2222222222222222,\"#7201a8\"],[0.3333333333333333,\"#9c179e\"],[0.4444444444444444,\"#bd3786\"],[0.5555555555555556,\"#d8576b\"],[0.6666666666666666,\"#ed7953\"],[0.7777777777777778,\"#fb9f3a\"],[0.8888888888888888,\"#fdca26\"],[1.0,\"#f0f921\"]],\"type\":\"histogram2dcontour\"}],\"histogram2d\":[{\"colorbar\":{\"outlinewidth\":0,\"ticks\":\"\"},\"colorscale\":[[0.0,\"#0d0887\"],[0.1111111111111111,\"#46039f\"],[0.2222222222222222,\"#7201a8\"],[0.3333333333333333,\"#9c179e\"],[0.4444444444444444,\"#bd3786\"],[0.5555555555555556,\"#d8576b\"],[0.6666666666666666,\"#ed7953\"],[0.7777777777777778,\"#fb9f3a\"],[0.8888888888888888,\"#fdca26\"],[1.0,\"#f0f921\"]],\"type\":\"histogram2d\"}],\"histogram\":[{\"marker\":{\"pattern\":{\"fillmode\":\"overlay\",\"size\":10,\"solidity\":0.2}},\"type\":\"histogram\"}],\"mesh3d\":[{\"colorbar\":{\"outlinewidth\":0,\"ticks\":\"\"},\"type\":\"mesh3d\"}],\"parcoords\":[{\"line\":{\"colorbar\":{\"outlinewidth\":0,\"ticks\":\"\"}},\"type\":\"parcoords\"}],\"pie\":[{\"automargin\":true,\"type\":\"pie\"}],\"scatter3d\":[{\"line\":{\"colorbar\":{\"outlinewidth\":0,\"ticks\":\"\"}},\"marker\":{\"colorbar\":{\"outlinewidth\":0,\"ticks\":\"\"}},\"type\":\"scatter3d\"}],\"scattercarpet\":[{\"marker\":{\"colorbar\":{\"outlinewidth\":0,\"ticks\":\"\"}},\"type\":\"scattercarpet\"}],\"scattergeo\":[{\"marker\":{\"colorbar\":{\"outlinewidth\":0,\"ticks\":\"\"}},\"type\":\"scattergeo\"}],\"scattergl\":[{\"marker\":{\"colorbar\":{\"outlinewidth\":0,\"ticks\":\"\"}},\"type\":\"scattergl\"}],\"scattermapbox\":[{\"marker\":{\"colorbar\":{\"outlinewidth\":0,\"ticks\":\"\"}},\"type\":\"scattermapbox\"}],\"scatterpolargl\":[{\"marker\":{\"colorbar\":{\"outlinewidth\":0,\"ticks\":\"\"}},\"type\":\"scatterpolargl\"}],\"scatterpolar\":[{\"marker\":{\"colorbar\":{\"outlinewidth\":0,\"ticks\":\"\"}},\"type\":\"scatterpolar\"}],\"scatter\":[{\"fillpattern\":{\"fillmode\":\"overlay\",\"size\":10,\"solidity\":0.2},\"type\":\"scatter\"}],\"scatterternary\":[{\"marker\":{\"colorbar\":{\"outlinewidth\":0,\"ticks\":\"\"}},\"type\":\"scatterternary\"}],\"surface\":[{\"colorbar\":{\"outlinewidth\":0,\"ticks\":\"\"},\"colorscale\":[[0.0,\"#0d0887\"],[0.1111111111111111,\"#46039f\"],[0.2222222222222222,\"#7201a8\"],[0.3333333333333333,\"#9c179e\"],[0.4444444444444444,\"#bd3786\"],[0.5555555555555556,\"#d8576b\"],[0.6666666666666666,\"#ed7953\"],[0.7777777777777778,\"#fb9f3a\"],[0.8888888888888888,\"#fdca26\"],[1.0,\"#f0f921\"]],\"type\":\"surface\"}],\"table\":[{\"cells\":{\"fill\":{\"color\":\"#EBF0F8\"},\"line\":{\"color\":\"white\"}},\"header\":{\"fill\":{\"color\":\"#C8D4E3\"},\"line\":{\"color\":\"white\"}},\"type\":\"table\"}]},\"layout\":{\"annotationdefaults\":{\"arrowcolor\":\"#2a3f5f\",\"arrowhead\":0,\"arrowwidth\":1},\"autotypenumbers\":\"strict\",\"coloraxis\":{\"colorbar\":{\"outlinewidth\":0,\"ticks\":\"\"}},\"colorscale\":{\"diverging\":[[0,\"#8e0152\"],[0.1,\"#c51b7d\"],[0.2,\"#de77ae\"],[0.3,\"#f1b6da\"],[0.4,\"#fde0ef\"],[0.5,\"#f7f7f7\"],[0.6,\"#e6f5d0\"],[0.7,\"#b8e186\"],[0.8,\"#7fbc41\"],[0.9,\"#4d9221\"],[1,\"#276419\"]],\"sequential\":[[0.0,\"#0d0887\"],[0.1111111111111111,\"#46039f\"],[0.2222222222222222,\"#7201a8\"],[0.3333333333333333,\"#9c179e\"],[0.4444444444444444,\"#bd3786\"],[0.5555555555555556,\"#d8576b\"],[0.6666666666666666,\"#ed7953\"],[0.7777777777777778,\"#fb9f3a\"],[0.8888888888888888,\"#fdca26\"],[1.0,\"#f0f921\"]],\"sequentialminus\":[[0.0,\"#0d0887\"],[0.1111111111111111,\"#46039f\"],[0.2222222222222222,\"#7201a8\"],[0.3333333333333333,\"#9c179e\"],[0.4444444444444444,\"#bd3786\"],[0.5555555555555556,\"#d8576b\"],[0.6666666666666666,\"#ed7953\"],[0.7777777777777778,\"#fb9f3a\"],[0.8888888888888888,\"#fdca26\"],[1.0,\"#f0f921\"]]},\"colorway\":[\"#636efa\",\"#EF553B\",\"#00cc96\",\"#ab63fa\",\"#FFA15A\",\"#19d3f3\",\"#FF6692\",\"#B6E880\",\"#FF97FF\",\"#FECB52\"],\"font\":{\"color\":\"#2a3f5f\"},\"geo\":{\"bgcolor\":\"white\",\"lakecolor\":\"white\",\"landcolor\":\"white\",\"showlakes\":true,\"showland\":true,\"subunitcolor\":\"#C8D4E3\"},\"hoverlabel\":{\"align\":\"left\"},\"hovermode\":\"closest\",\"mapbox\":{\"style\":\"light\"},\"paper_bgcolor\":\"white\",\"plot_bgcolor\":\"white\",\"polar\":{\"angularaxis\":{\"gridcolor\":\"#EBF0F8\",\"linecolor\":\"#EBF0F8\",\"ticks\":\"\"},\"bgcolor\":\"white\",\"radialaxis\":{\"gridcolor\":\"#EBF0F8\",\"linecolor\":\"#EBF0F8\",\"ticks\":\"\"}},\"scene\":{\"xaxis\":{\"backgroundcolor\":\"white\",\"gridcolor\":\"#DFE8F3\",\"gridwidth\":2,\"linecolor\":\"#EBF0F8\",\"showbackground\":true,\"ticks\":\"\",\"zerolinecolor\":\"#EBF0F8\"},\"yaxis\":{\"backgroundcolor\":\"white\",\"gridcolor\":\"#DFE8F3\",\"gridwidth\":2,\"linecolor\":\"#EBF0F8\",\"showbackground\":true,\"ticks\":\"\",\"zerolinecolor\":\"#EBF0F8\"},\"zaxis\":{\"backgroundcolor\":\"white\",\"gridcolor\":\"#DFE8F3\",\"gridwidth\":2,\"linecolor\":\"#EBF0F8\",\"showbackground\":true,\"ticks\":\"\",\"zerolinecolor\":\"#EBF0F8\"}},\"shapedefaults\":{\"line\":{\"color\":\"#2a3f5f\"}},\"ternary\":{\"aaxis\":{\"gridcolor\":\"#DFE8F3\",\"linecolor\":\"#A2B1C6\",\"ticks\":\"\"},\"baxis\":{\"gridcolor\":\"#DFE8F3\",\"linecolor\":\"#A2B1C6\",\"ticks\":\"\"},\"bgcolor\":\"white\",\"caxis\":{\"gridcolor\":\"#DFE8F3\",\"linecolor\":\"#A2B1C6\",\"ticks\":\"\"}},\"title\":{\"x\":0.05},\"xaxis\":{\"automargin\":true,\"gridcolor\":\"#EBF0F8\",\"linecolor\":\"#EBF0F8\",\"ticks\":\"\",\"title\":{\"standoff\":15},\"zerolinecolor\":\"#EBF0F8\",\"zerolinewidth\":2},\"yaxis\":{\"automargin\":true,\"gridcolor\":\"#EBF0F8\",\"linecolor\":\"#EBF0F8\",\"ticks\":\"\",\"title\":{\"standoff\":15},\"zerolinecolor\":\"#EBF0F8\",\"zerolinewidth\":2}}},\"xaxis\":{\"anchor\":\"y\",\"domain\":[0.0,1.0],\"title\":{\"text\":\"World Rank\"}},\"yaxis\":{\"anchor\":\"x\",\"domain\":[0.0,1.0],\"title\":{\"text\":\"Growth Rate\"}},\"coloraxis\":{\"colorbar\":{\"title\":{\"text\":\"Growth Rate\"}},\"colorscale\":[[0.0,\"rgb(243, 231, 155)\"],[0.16666666666666666,\"rgb(250, 196, 132)\"],[0.3333333333333333,\"rgb(248, 160, 126)\"],[0.5,\"rgb(235, 127, 134)\"],[0.6666666666666666,\"rgb(206, 102, 147)\"],[0.8333333333333334,\"rgb(160, 89, 160)\"],[1.0,\"rgb(92, 83, 165)\"]]},\"legend\":{\"tracegroupgap\":0},\"title\":{\"text\":\"Growth Rate vs. World Rank\"},\"height\":900},                        {\"responsive\": true}                    ).then(function(){\n",
       "                            \n",
       "var gd = document.getElementById('58c1671c-4e66-41e1-8ff8-31751a9ec578');\n",
       "var x = new MutationObserver(function (mutations, observer) {{\n",
       "        var display = window.getComputedStyle(gd).display;\n",
       "        if (!display || display === 'none') {{\n",
       "            console.log([gd, 'removed!']);\n",
       "            Plotly.purge(gd);\n",
       "            observer.disconnect();\n",
       "        }}\n",
       "}});\n",
       "\n",
       "// Listen for the removal of the full notebook cells\n",
       "var notebookContainer = gd.closest('#notebook-container');\n",
       "if (notebookContainer) {{\n",
       "    x.observe(notebookContainer, {childList: true});\n",
       "}}\n",
       "\n",
       "// Listen for the clearing of the current output cell\n",
       "var outputEl = gd.closest('.output');\n",
       "if (outputEl) {{\n",
       "    x.observe(outputEl, {childList: true});\n",
       "}}\n",
       "\n",
       "                        })                };                });            </script>        </div>"
      ]
     },
     "metadata": {},
     "output_type": "display_data"
    }
   ],
   "source": [
    "fig = px.scatter(df, x='World Rank', y='Growth Rate',\n",
    "                 title='Growth Rate vs. World Rank',\n",
    "                 labels={'World Rank': 'World Rank', 'Growth Rate': 'Growth Rate'},\n",
    "                 hover_name='Country',\n",
    "                 hover_data=['Population 2024', 'Population 2023', 'Area (km2)', 'Density (/km2)', 'World %'],\n",
    "                 color='Growth Rate',\n",
    "                 color_continuous_scale=px.colors.sequential.Sunset,\n",
    "                 height=900)\n",
    "fig.update_layout(xaxis_title='World Rank', yaxis_title='Growth Rate', template='plotly_white')\n",
    "fig.show()"
   ]
  },
  {
   "cell_type": "code",
   "execution_count": 10,
   "id": "822225fb",
   "metadata": {
    "execution": {
     "iopub.execute_input": "2024-07-06T13:03:22.070840Z",
     "iopub.status.busy": "2024-07-06T13:03:22.069706Z",
     "iopub.status.idle": "2024-07-06T13:03:22.178093Z",
     "shell.execute_reply": "2024-07-06T13:03:22.177018Z"
    },
    "papermill": {
     "duration": 0.119356,
     "end_time": "2024-07-06T13:03:22.180660",
     "exception": false,
     "start_time": "2024-07-06T13:03:22.061304",
     "status": "completed"
    },
    "tags": []
   },
   "outputs": [
    {
     "data": {
      "text/html": [
       "<div>                            <div id=\"3759d720-b752-41c6-b272-722c3d3023dc\" class=\"plotly-graph-div\" style=\"height:525px; width:100%;\"></div>            <script type=\"text/javascript\">                require([\"plotly\"], function(Plotly) {                    window.PLOTLYENV=window.PLOTLYENV || {};                                    if (document.getElementById(\"3759d720-b752-41c6-b272-722c3d3023dc\")) {                    Plotly.newPlot(                        \"3759d720-b752-41c6-b272-722c3d3023dc\",                        [{\"coloraxis\":\"coloraxis\",\"customdata\":[[1441719852,1428627663,\"3M\",485.0,0.0092,1],[1425178782,1425671352,\"9.4M\",151.0,-0.0003,2],[341814420,339996563,\"9.1M\",37.0,0.0053,3],[279798049,277534122,\"1.9M\",149.0,0.0082,4],[245209815,240485658,\"770.9K\",318.0,0.0196,5],[229152217,223804632,\"910.8K\",252.0,0.0239,6],[217637297,216422446,\"8.4M\",26.0,0.0056,7],[174701211,172954319,\"130.2K\",1342.0,0.0101,8],[143957079,144444359,\"16.4M\",9.0,-0.0034,9],[129719719,126527060,\"1.1M\",115.0,0.0252,10],[129388467,128455567,\"1.9M\",67.0,0.0073,11],[122631432,123294513,\"364.5K\",336.0,-0.0054,12],[119106224,117337368,\"298.2K\",399.0,0.0151,13],[114484252,112716598,\"1M\",115.0,0.0157,14],[105625114,102262808,\"2.3M\",47.0,0.0329,15],[99497680,98858950,\"313.4K\",317.0,0.0065,16],[89809781,89172767,\"1.6M\",55.0,0.0071,17],[86260417,85816199,\"783.6K\",110.0,0.0052,18],[83252474,83294633,\"349.4K\",238.0,-0.0005,19],[71885799,71801279,\"510.9K\",141.0,0.0012,20],[69419073,67438106,\"885.8K\",78.0,0.0294,21],[67961439,67736802,\"241.9K\",281.0,0.0033,22],[64881830,64756584,\"547.6K\",118.0,0.0019,23],[61020221,60414495,\"1.2M\",50.0,0.01,24],[58697744,58870762,\"295.7K\",198.0,-0.0029,25],[56203030,55100586,\"569.1K\",99.0,0.02,26],[54964694,54577997,\"652.7K\",84.0,0.0071,27],[52340774,52085168,\"1.1M\",47.0,0.0049,28],[51741963,51784059,\"97.6K\",530.0,-0.0008,29],[49924252,48582334,\"200.5K\",249.0,0.0276,30],[49358228,48109006,\"1.9M\",26.0,0.026,31],[47473373,47519628,\"499.6K\",95.0,-0.001,32],[46523657,45504560,\"434.1K\",107.0,0.0224,33],[46278751,45606480,\"2.4M\",19.0,0.0147,34],[46057866,45773884,\"2.7M\",17.0,0.0062,35],[43372950,42239854,\"652.2K\",66.0,0.0268,36],[40221726,41026067,\"306.1K\",131.0,-0.0196,37],[39107046,38781291,\"9M\",4.0,0.0084,38],[38211459,37840044,\"446.3K\",86.0,0.0098,39],[37937821,36744634,\"579.4K\",65.0,0.0325,40],[37804634,36684202,\"1.2M\",30.0,0.0305,41],[37473929,36947025,\"2.1M\",17.0,0.0143,42],[35673804,35163944,\"440.6K\",81.0,0.0145,43],[35219853,34449825,\"528K\",67.0,0.0224,44],[34858402,33897354,\"786.4K\",44.0,0.0284,45],[34777522,34121985,\"227.5K\",153.0,0.0192,46],[34683444,34352719,\"1.3M\",27.0,0.0096,47],[34671895,34308525,\"328.6K\",106.0,0.0106,48],[31240315,30896590,\"143.3K\",218.0,0.0111,49],[31056610,30325732,\"581.8K\",53.0,0.0241,50],[29603302,28873034,\"318K\",93.0,0.0253,51],[29395334,28838499,\"882K\",33.0,0.0193,52],[29394433,28647293,\"472.7K\",62.0,0.0261,53],[28238972,27202843,\"1.3M\",22.0,0.0381,54],[26699482,26439111,\"7.7M\",3.0,0.0098,55],[26244582,26160821,\"120.4K\",218.0,0.0032,56],[24348053,23227014,\"183.6K\",133.0,0.0483,57],[24015789,23293698,\"1.2M\",20.0,0.031,58],[23950214,23923276,\"36.2K\",662.0,0.0011,59],[23840247,23251485,\"273.6K\",87.0,0.0253,60],[21949268,21893579,\"61.9K\",355.0,0.0025,61],[21475962,20931751,\"94.3K\",228.0,0.026,62],[21134695,20569737,\"743.4K\",28.0,0.0275,63],[19828165,19606633,\"2.7M\",7.0,0.0113,64],[19658839,19629590,\"743.5K\",26.0,0.0015,65],[19618996,19892812,\"230.1K\",85.0,-0.0138,66],[18847148,18278568,\"1.3M\",15.0,0.0311,67],[18706922,18143378,\"627.3K\",30.0,0.0311,68],[18377367,18190484,\"248.4K\",74.0,0.0103,69],[18358430,18092026,\"107.2K\",171.0,0.0147,70],[18221567,17763163,\"192.5K\",95.0,0.0258,71],[17671125,17618299,\"33.7K\",525.0,0.003,72],[17121847,16944826,\"176.5K\",97.0,0.0104,73],[17020321,16665409,\"386.9K\",44.0,0.0213,74],[14528770,14190612,\"245.7K\",59.0,0.0238,75],[14414910,14094683,\"24.7K\",584.0,0.0227,76],[14080072,13712828,\"112.8K\",125.0,0.0268,77],[13591657,13238559,\"25.7K\",529.0,0.0267,78],[12567336,12388571,\"1.1M\",12.0,0.0144,79],[12564689,12458223,\"155.4K\",81.0,0.0085,80],[11867030,11724763,\"27.6K\",431.0,0.0121,81],[11715774,11686140,\"30.3K\",387.0,0.0025,82],[11434005,11332972,\"48.3K\",237.0,0.0089,83],[11384922,11337052,\"88.8K\",128.0,0.0042,84],[11277092,11088796,\"631.9K\",18.0,0.017,85],[11174587,11194449,\"103.8K\",108.0,-0.0018,86],[10759406,10593798,\"111.9K\",96.0,0.0156,87],[10673669,10612086,\"407.3K\",26.0,0.0058,88],[10515788,10329931,\"452.9K\",23.0,0.018,89],[10503734,10495295,\"77.2K\",136.0,0.0008,90],[10462904,10412651,\"82.6K\",127.0,0.0048,91],[10331513,10143543,\"138.8K\",74.0,0.0185,92],[10302720,10341277,\"128.9K\",80.0,-0.0037,93],[10223349,10247605,\"91.6K\",112.0,-0.0024,94],[9994993,10156239,\"91.3K\",110.0,-0.0159,95],[9591853,9516871,\"71K\",135.0,0.0079,96],[9455037,9498238,\"203K\",47.0,-0.0045,97],[9311652,9174520,\"21.6K\",430.0,0.0149,98],[9260864,9053799,\"54.4K\",170.0,0.0229,99],[8977972,8791092,\"72.2K\",124.0,0.0213,100],[8977139,8958960,\"82.5K\",109.0,0.002,101],[8851431,8796669,\"39.5K\",224.0,0.0062,102],[7736681,7633779,\"230.8K\",34.0,0.0135,103],[7496681,7491609,\"1.1K\",7140.0,0.0007,104],[7142529,7046310,\"120.3K\",59.0,0.0137,105],[7097028,7149077,\"87.5K\",81.0,-0.0073,106],[6964197,6888388,\"1.8M\",4.0,0.011,107],[6947270,6861524,\"397.3K\",17.0,0.0125,108],[6839606,6735347,\"191.8K\",36.0,0.0155,109],[6618615,6687717,\"108.6K\",61.0,-0.0103,110],[6598071,6516100,\"469.9K\",14.0,0.0126,111],[6396289,6364943,\"20.7K\",309.0,0.0049,112],[6244547,6106869,\"341.5K\",18.0,0.0225,113],[6052709,6014723,\"718\",8430.0,0.0063,114],[5939695,5910913,\"40K\",148.0,0.0049,115],[5915627,5742315,\"623K\",9.0,0.0302,116],[5702832,5795199,\"49K\",116.0,-0.0159,117],[5549886,5545475,\"303.9K\",18.0,0.0008,118],[5536949,5418377,\"96.3K\",57.0,0.0219,119],[5514477,5474360,\"364.3K\",15.0,0.0073,120],[5494963,5371230,\"6K\",913.0,0.023,121],[5269939,5228100,\"263.3K\",20.0,0.008,122],[5246714,5212173,\"51.1K\",103.0,0.0066,123],[5219044,5353930,\"10.2K\",510.0,-0.0252,124],[5089478,5056935,\"68.9K\",74.0,0.0064,125],[4993922,4862989,\"1M\",5.0,0.0269,126],[4713553,4644384,\"309.5K\",15.0,0.0149,127],[4527961,4468087,\"74.2K\",61.0,0.0134,128],[4349380,4310108,\"17.8K\",244.0,0.0091,129],[3986627,4008617,\"56K\",71.0,-0.0055,130],[3817651,3748901,\"121K\",32.0,0.0183,131],[3717425,3728282,\"69.5K\",53.0,-0.0029,132],[3493629,3447157,\"1.6M\",2.0,0.0135,133],[3423316,3423108,\"175K\",20.0,0.0001,134],[3329865,3435931,\"32.9K\",101.0,-0.0309,135],[3268802,3260314,\"8.9K\",369.0,0.0026,136],[3194378,3210847,\"51.2K\",62.0,-0.0051,137],[2841803,2773168,\"10.1K\",281.0,0.0247,138],[2826020,2832439,\"27.4K\",103.0,-0.0023,139],[2824738,2825544,\"10.8K\",261.0,-0.0003,140],[2777979,2777970,\"28.5K\",98.0,0.0,141],[2737061,2716391,\"11.5K\",238.0,0.0076,142],[2719694,2675352,\"566.7K\",5.0,0.0166,143],[2692798,2718352,\"62.6K\",43.0,-0.0094,144],[2645805,2604172,\"823.3K\",3.0,0.016,145],[2484557,2436566,\"257.7K\",10.0,0.0197,146],[2356083,2330318,\"30.4K\",78.0,0.0111,147],[2197149,2150842,\"28.1K\",78.0,0.0215,148],[2118965,2119675,\"20.1K\",105.0,-0.0003,149],[2082706,2085679,\"25.2K\",83.0,-0.0014,150],[1810240,1830211,\"62.2K\",29.0,-0.0109,151],[1754993,1714671,\"28.1K\",63.0,0.0235,152],[1538200,1534937,\"5.1K\",300.0,0.0021,153],[1498712,1485509,\"785\",1909.0,0.0089,154],[1379883,1360596,\"14.9K\",93.0,0.0142,155],[1319041,1322765,\"42.8K\",31.0,-0.0028,156],[1301978,1300557,\"2K\",641.0,0.0011,157],[1268467,1260138,\"9.2K\",137.0,0.0066,158],[1222075,1210822,\"17.2K\",71.0,0.0093,159],[1152329,1136455,\"23.2K\",50.0,0.014,160],[989350,981796,\"2.5K\",394.0,0.0077,161],[943072,936375,\"18.3K\",52.0,0.0072,162],[867605,852075,\"1.9K\",466.0,0.0182,163],[819594,813834,\"196.8K\",4.0,0.0071,164],[792382,787424,\"38.1K\",21.0,0.0063,165],[756673,740424,\"28K\",27.0,0.0219,166],[713082,704149,\"33\",21674.0,0.0127,167],[661594,654768,\"2.6K\",257.0,0.0104,168],[628785,623236,\"156K\",4.0,0.0089,169],[626102,626485,\"13.4K\",47.0,-0.0006,170],[604461,598682,\"4K\",150.0,0.0097,171],[598385,587259,\"266K\",2.0,0.0189,172],[536740,535064,\"320\",1677.0,0.0031,173],[517887,521021,\"300\",1726.0,-0.006,174],[455858,452524,\"5.3K\",87.0,0.0074,175],[416656,410825,\"22.8K\",18.0,0.0142,176],[415223,412623,\"10K\",41.0,0.0063,177],[396346,395839,\"1.6K\",243.0,0.0013,178],[377689,375318,\"100.8K\",4.0,0.0063,179],[366416,366981,\"1.1K\",325.0,-0.0015,180],[345996,335995,\"374\",925.0,0.0298,181],[342325,334506,\"12.2K\",28.0,0.0234,182],[319796,312155,\"83.5K\",4.0,0.0245,183],[311383,308872,\"3.5K\",90.0,0.0081,184],[295966,292991,\"18.3K\",16.0,0.0102,185],[282309,281995,\"430\",657.0,0.0011,186],[236381,231856,\"960\",246.0,0.0195,187],[228966,225681,\"2.8K\",82.0,0.0146,188],[192965,192077,\"444\",435.0,0.0046,189],[180805,180251,\"610\",296.0,0.0031,190],[174114,172952,\"540\",322.0,0.0067,191],[135763,133515,\"810\",168.0,0.0168,192],[126887,126183,\"340\",373.0,0.0056,193],[116300,115224,\"700\",166.0,0.0093,194],[112843,111802,\"120\",940.0,0.0093,195],[108683,107773,\"720\",151.0,0.0084,196],[108263,107660,\"460\",235.0,0.0056,197],[106177,106277,\"180\",590.0,-0.0009,198],[103683,103698,\"390\",266.0,-0.0001,199],[98055,98750,\"347\",283.0,-0.007,200],[94816,94298,\"440\",215.0,0.0055,201],[84904,84710,\"570\",149.0,0.0023,202],[80341,80088,\"470\",171.0,0.0032,203],[73368,73040,\"750\",98.0,0.0045,204],[69885,69310,\"240\",291.0,0.0083,205],[63935,64069,\"54\",1184.0,-0.0021,206],[63788,63544,\"63\",1013.0,0.0038,207],[56789,56643,\"410.4K\",0.14,0.0026,208],[53444,53270,\"1.4K\",39.0,0.0033,209],[50025,49796,\"460\",109.0,0.0046,210],[47847,47755,\"260\",184.0,0.0019,211],[46431,46062,\"948\",49.0,0.008,212],[44309,44222,\"34\",1303.0,0.002,213],[43544,43914,\"200\",218.0,-0.0084,214],[42415,41996,\"180\",236.0,0.01,215],[39822,39584,\"160\",249.0,0.006,216],[36157,36297,\"2\",18079.0,-0.0039,217],[33614,33642,\"60\",560.0,-0.0008,218],[32718,32688,\"7\",4811.0,0.0009,219],[32337,32077,\"50\",647.0,0.0081,220],[31763,31538,\"150\",212.0,0.0071,221],[18051,18058,\"460\",39.0,-0.0004,222],[17072,17044,\"240\",71.0,0.0016,223],[15936,15899,\"91\",175.0,0.0023,224],[12884,12780,\"20\",644.0,0.0081,225],[11478,11396,\"30\",383.0,0.0072,226],[11439,11502,\"274\",42.0,-0.0055,227],[11019,10994,\"25\",441.0,0.0023,228],[5815,5840,\"242\",24.0,-0.0043,229],[4372,4386,\"102\",43.0,-0.0032,230],[3803,3791,\"12.2K\",0.31,0.0032,231],[1935,1935,\"261\",7.0,0.0,232],[1915,1893,\"10\",192.0,0.0116,233],[526,518,\"\\u003c 1\",1195.0,0.0154,234]],\"geo\":\"geo\",\"hovertemplate\":\"\\u003cb\\u003e%{hovertext}\\u003c\\u002fb\\u003e\\u003cbr\\u003e\\u003cbr\\u003eCountry=%{location}\\u003cbr\\u003ePopulation 2024=%{customdata[0]}\\u003cbr\\u003ePopulation 2023=%{customdata[1]}\\u003cbr\\u003eArea (km2)=%{customdata[2]}\\u003cbr\\u003eDensity (\\u002fkm2)=%{customdata[3]}\\u003cbr\\u003eGrowth Rate=%{customdata[4]}\\u003cbr\\u003eWorld Rank=%{customdata[5]}\\u003cbr\\u003eWorld %=%{z}\\u003cextra\\u003e\\u003c\\u002fextra\\u003e\",\"hovertext\":[\"India\",\"China\",\"United States\",\"Indonesia\",\"Pakistan\",\"Nigeria\",\"Brazil\",\"Bangladesh\",\"Russia\",\"Ethiopia\",\"Mexico\",\"Japan\",\"Philippines\",\"Egypt\",\"DR Congo\",\"Vietnam\",\"Iran\",\"Turkey\",\"Germany\",\"Thailand\",\"Tanzania\",\"United Kingdom\",\"France\",\"South Africa\",\"Italy\",\"Kenya\",\"Myanmar\",\"Colombia\",\"South Korea\",\"Uganda\",\"Sudan\",\"Spain\",\"Iraq\",\"Algeria\",\"Argentina\",\"Afghanistan\",\"Poland\",\"Canada\",\"Morocco\",\"Ukraine\",\"Angola\",\"Saudi Arabia\",\"Uzbekistan\",\"Yemen\",\"Mozambique\",\"Ghana\",\"Peru\",\"Malaysia\",\"Nepal\",\"Madagascar\",\"Ivory Coast\",\"Venezuela\",\"Cameroon\",\"Niger\",\"Australia\",\"North Korea\",\"Syria\",\"Mali\",\"Taiwan\",\"Burkina Faso\",\"Sri Lanka\",\"Malawi\",\"Zambia\",\"Kazakhstan\",\"Chile\",\"Romania\",\"Chad\",\"Somalia\",\"Ecuador\",\"Guatemala\",\"Senegal\",\"Netherlands\",\"Cambodia\",\"Zimbabwe\",\"Guinea\",\"Rwanda\",\"Benin\",\"Burundi\",\"Bolivia\",\"Tunisia\",\"Haiti\",\"Belgium\",\"Dominican Republic\",\"Jordan\",\"South Sudan\",\"Cuba\",\"Honduras\",\"Sweden\",\"Papua New Guinea\",\"Czech Republic\",\"Azerbaijan\",\"Tajikistan\",\"Greece\",\"Portugal\",\"Hungary\",\"United Arab Emirates\",\"Belarus\",\"Israel\",\"Togo\",\"Sierra Leone\",\"Austria\",\"Switzerland\",\"Laos\",\"Hong Kong\",\"Nicaragua\",\"Serbia\",\"Libya\",\"Paraguay\",\"Kyrgyzstan\",\"Bulgaria\",\"Turkmenistan\",\"El Salvador\",\"Republic of the Congo\",\"Singapore\",\"Denmark\",\"Central African Republic\",\"Slovakia\",\"Finland\",\"Liberia\",\"Norway\",\"Palestine\",\"New Zealand\",\"Costa Rica\",\"Lebanon\",\"Ireland\",\"Mauritania\",\"Oman\",\"Panama\",\"Kuwait\",\"Croatia\",\"Eritrea\",\"Georgia\",\"Mongolia\",\"Uruguay\",\"Moldova\",\"Puerto Rico\",\"Bosnia and Herzegovina\",\"Gambia\",\"Albania\",\"Jamaica\",\"Armenia\",\"Qatar\",\"Botswana\",\"Lithuania\",\"Namibia\",\"Gabon\",\"Lesotho\",\"Guinea Bissau\",\"Slovenia\",\"North Macedonia\",\"Latvia\",\"Equatorial Guinea\",\"Trinidad and Tobago\",\"Bahrain\",\"Timor Leste\",\"Estonia\",\"Mauritius\",\"Cyprus\",\"Eswatini\",\"Djibouti\",\"Reunion\",\"Fiji\",\"Comoros\",\"Guyana\",\"Bhutan\",\"Solomon Islands\",\"Macau\",\"Luxembourg\",\"Suriname\",\"Montenegro\",\"Cape Verde\",\"Western Sahara\",\"Malta\",\"Maldives\",\"Brunei\",\"Belize\",\"Bahamas\",\"Guadeloupe\",\"Iceland\",\"Martinique\",\"Mayotte\",\"Vanuatu\",\"French Guiana\",\"French Polynesia\",\"New Caledonia\",\"Barbados\",\"Sao Tome and Principe\",\"Samoa\",\"Curacao\",\"Saint Lucia\",\"Guam\",\"Kiribati\",\"Grenada\",\"Micronesia\",\"Jersey\",\"Tonga\",\"Seychelles\",\"Aruba\",\"Saint Vincent and the Grenadines\",\"United States Virgin Islands\",\"Antigua and Barbuda\",\"Isle of Man\",\"Andorra\",\"Dominica\",\"Cayman Islands\",\"Bermuda\",\"Guernsey\",\"Greenland\",\"Faroe Islands\",\"Northern Mariana Islands\",\"Saint Kitts and Nevis\",\"Turks and Caicos Islands\",\"Sint Maarten\",\"American Samoa\",\"Marshall Islands\",\"Liechtenstein\",\"Monaco\",\"San Marino\",\"Gibraltar\",\"Saint Martin\",\"British Virgin Islands\",\"Palau\",\"Cook Islands\",\"Anguilla\",\"Nauru\",\"Tuvalu\",\"Wallis and Futuna\",\"Saint Barthelemy\",\"Saint Pierre and Miquelon\",\"Montserrat\",\"Falkland Islands\",\"Niue\",\"Tokelau\",\"Vatican City\"],\"locationmode\":\"country names\",\"locations\":[\"India\",\"China\",\"United States\",\"Indonesia\",\"Pakistan\",\"Nigeria\",\"Brazil\",\"Bangladesh\",\"Russia\",\"Ethiopia\",\"Mexico\",\"Japan\",\"Philippines\",\"Egypt\",\"DR Congo\",\"Vietnam\",\"Iran\",\"Turkey\",\"Germany\",\"Thailand\",\"Tanzania\",\"United Kingdom\",\"France\",\"South Africa\",\"Italy\",\"Kenya\",\"Myanmar\",\"Colombia\",\"South Korea\",\"Uganda\",\"Sudan\",\"Spain\",\"Iraq\",\"Algeria\",\"Argentina\",\"Afghanistan\",\"Poland\",\"Canada\",\"Morocco\",\"Ukraine\",\"Angola\",\"Saudi Arabia\",\"Uzbekistan\",\"Yemen\",\"Mozambique\",\"Ghana\",\"Peru\",\"Malaysia\",\"Nepal\",\"Madagascar\",\"Ivory Coast\",\"Venezuela\",\"Cameroon\",\"Niger\",\"Australia\",\"North Korea\",\"Syria\",\"Mali\",\"Taiwan\",\"Burkina Faso\",\"Sri Lanka\",\"Malawi\",\"Zambia\",\"Kazakhstan\",\"Chile\",\"Romania\",\"Chad\",\"Somalia\",\"Ecuador\",\"Guatemala\",\"Senegal\",\"Netherlands\",\"Cambodia\",\"Zimbabwe\",\"Guinea\",\"Rwanda\",\"Benin\",\"Burundi\",\"Bolivia\",\"Tunisia\",\"Haiti\",\"Belgium\",\"Dominican Republic\",\"Jordan\",\"South Sudan\",\"Cuba\",\"Honduras\",\"Sweden\",\"Papua New Guinea\",\"Czech Republic\",\"Azerbaijan\",\"Tajikistan\",\"Greece\",\"Portugal\",\"Hungary\",\"United Arab Emirates\",\"Belarus\",\"Israel\",\"Togo\",\"Sierra Leone\",\"Austria\",\"Switzerland\",\"Laos\",\"Hong Kong\",\"Nicaragua\",\"Serbia\",\"Libya\",\"Paraguay\",\"Kyrgyzstan\",\"Bulgaria\",\"Turkmenistan\",\"El Salvador\",\"Republic of the Congo\",\"Singapore\",\"Denmark\",\"Central African Republic\",\"Slovakia\",\"Finland\",\"Liberia\",\"Norway\",\"Palestine\",\"New Zealand\",\"Costa Rica\",\"Lebanon\",\"Ireland\",\"Mauritania\",\"Oman\",\"Panama\",\"Kuwait\",\"Croatia\",\"Eritrea\",\"Georgia\",\"Mongolia\",\"Uruguay\",\"Moldova\",\"Puerto Rico\",\"Bosnia and Herzegovina\",\"Gambia\",\"Albania\",\"Jamaica\",\"Armenia\",\"Qatar\",\"Botswana\",\"Lithuania\",\"Namibia\",\"Gabon\",\"Lesotho\",\"Guinea Bissau\",\"Slovenia\",\"North Macedonia\",\"Latvia\",\"Equatorial Guinea\",\"Trinidad and Tobago\",\"Bahrain\",\"Timor Leste\",\"Estonia\",\"Mauritius\",\"Cyprus\",\"Eswatini\",\"Djibouti\",\"Reunion\",\"Fiji\",\"Comoros\",\"Guyana\",\"Bhutan\",\"Solomon Islands\",\"Macau\",\"Luxembourg\",\"Suriname\",\"Montenegro\",\"Cape Verde\",\"Western Sahara\",\"Malta\",\"Maldives\",\"Brunei\",\"Belize\",\"Bahamas\",\"Guadeloupe\",\"Iceland\",\"Martinique\",\"Mayotte\",\"Vanuatu\",\"French Guiana\",\"French Polynesia\",\"New Caledonia\",\"Barbados\",\"Sao Tome and Principe\",\"Samoa\",\"Curacao\",\"Saint Lucia\",\"Guam\",\"Kiribati\",\"Grenada\",\"Micronesia\",\"Jersey\",\"Tonga\",\"Seychelles\",\"Aruba\",\"Saint Vincent and the Grenadines\",\"United States Virgin Islands\",\"Antigua and Barbuda\",\"Isle of Man\",\"Andorra\",\"Dominica\",\"Cayman Islands\",\"Bermuda\",\"Guernsey\",\"Greenland\",\"Faroe Islands\",\"Northern Mariana Islands\",\"Saint Kitts and Nevis\",\"Turks and Caicos Islands\",\"Sint Maarten\",\"American Samoa\",\"Marshall Islands\",\"Liechtenstein\",\"Monaco\",\"San Marino\",\"Gibraltar\",\"Saint Martin\",\"British Virgin Islands\",\"Palau\",\"Cook Islands\",\"Anguilla\",\"Nauru\",\"Tuvalu\",\"Wallis and Futuna\",\"Saint Barthelemy\",\"Saint Pierre and Miquelon\",\"Montserrat\",\"Falkland Islands\",\"Niue\",\"Tokelau\",\"Vatican City\"],\"name\":\"\",\"z\":[0.1801,0.178,0.0427,0.035,0.0306,0.0286,0.0272,0.0218,0.018,0.0162,0.0162,0.0153,0.0149,0.0143,0.0132,0.0124,0.0112,0.0108,0.0104,0.009,0.0087,0.0085,0.0081,0.0076,0.0073,0.007,0.0069,0.0065,0.0065,0.0062,0.0062,0.0059,0.0058,0.0058,0.0058,0.0054,0.005,0.0049,0.0048,0.0047,0.0047,0.0047,0.0045,0.0044,0.0044,0.0043,0.0043,0.0043,0.0039,0.0039,0.0037,0.0037,0.0037,0.0035,0.0033,0.0033,0.003,0.003,0.003,0.003,0.0027,0.0027,0.0026,0.0025,0.0025,0.0025,0.0024,0.0023,0.0023,0.0023,0.0023,0.0022,0.0021,0.0021,0.0018,0.0018,0.0018,0.0017,0.0016,0.0016,0.0015,0.0015,0.0014,0.0014,0.0014,0.0014,0.0013,0.0013,0.0013,0.0013,0.0013,0.0013,0.0013,0.0013,0.0012,0.0012,0.0012,0.0012,0.0012,0.0011,0.0011,0.0011,0.001,0.0009,0.0009,0.0009,0.0009,0.0009,0.0009,0.0008,0.0008,0.0008,0.0008,0.0008,0.0007,0.0007,0.0007,0.0007,0.0007,0.0007,0.0007,0.0007,0.0007,0.0007,0.0006,0.0006,0.0006,0.0006,0.0005,0.0005,0.0005,0.0005,0.0004,0.0004,0.0004,0.0004,0.0004,0.0004,0.0004,0.0004,0.0003,0.0003,0.0003,0.0003,0.0003,0.0003,0.0003,0.0003,0.0003,0.0003,0.0002,0.0002,0.0002,0.0002,0.0002,0.0002,0.0002,0.0002,0.0002,0.0001,0.0001,0.0001,0.0001,0.0001,0.0001,0.0001,0.0001,0.0001,0.0001,0.0001,0.0001,0.0001,0.0001,0.0001,0.0001,0.0001,0.0001,0.0,0.0,0.0,0.0,0.0,0.0,0.0,0.0,0.0,0.0,0.0,0.0,0.0,0.0,0.0,0.0,0.0,0.0,0.0,0.0,0.0,0.0,0.0,0.0,0.0,0.0,0.0,0.0,0.0,0.0,0.0,0.0,0.0,0.0,0.0,0.0,0.0,0.0,0.0,0.0,0.0,0.0,0.0,0.0,0.0,0.0,0.0,0.0,0.0,0.0,0.0,null,null,null,null,null,null],\"type\":\"choropleth\"}],                        {\"template\":{\"data\":{\"barpolar\":[{\"marker\":{\"line\":{\"color\":\"white\",\"width\":0.5},\"pattern\":{\"fillmode\":\"overlay\",\"size\":10,\"solidity\":0.2}},\"type\":\"barpolar\"}],\"bar\":[{\"error_x\":{\"color\":\"#2a3f5f\"},\"error_y\":{\"color\":\"#2a3f5f\"},\"marker\":{\"line\":{\"color\":\"white\",\"width\":0.5},\"pattern\":{\"fillmode\":\"overlay\",\"size\":10,\"solidity\":0.2}},\"type\":\"bar\"}],\"carpet\":[{\"aaxis\":{\"endlinecolor\":\"#2a3f5f\",\"gridcolor\":\"#C8D4E3\",\"linecolor\":\"#C8D4E3\",\"minorgridcolor\":\"#C8D4E3\",\"startlinecolor\":\"#2a3f5f\"},\"baxis\":{\"endlinecolor\":\"#2a3f5f\",\"gridcolor\":\"#C8D4E3\",\"linecolor\":\"#C8D4E3\",\"minorgridcolor\":\"#C8D4E3\",\"startlinecolor\":\"#2a3f5f\"},\"type\":\"carpet\"}],\"choropleth\":[{\"colorbar\":{\"outlinewidth\":0,\"ticks\":\"\"},\"type\":\"choropleth\"}],\"contourcarpet\":[{\"colorbar\":{\"outlinewidth\":0,\"ticks\":\"\"},\"type\":\"contourcarpet\"}],\"contour\":[{\"colorbar\":{\"outlinewidth\":0,\"ticks\":\"\"},\"colorscale\":[[0.0,\"#0d0887\"],[0.1111111111111111,\"#46039f\"],[0.2222222222222222,\"#7201a8\"],[0.3333333333333333,\"#9c179e\"],[0.4444444444444444,\"#bd3786\"],[0.5555555555555556,\"#d8576b\"],[0.6666666666666666,\"#ed7953\"],[0.7777777777777778,\"#fb9f3a\"],[0.8888888888888888,\"#fdca26\"],[1.0,\"#f0f921\"]],\"type\":\"contour\"}],\"heatmapgl\":[{\"colorbar\":{\"outlinewidth\":0,\"ticks\":\"\"},\"colorscale\":[[0.0,\"#0d0887\"],[0.1111111111111111,\"#46039f\"],[0.2222222222222222,\"#7201a8\"],[0.3333333333333333,\"#9c179e\"],[0.4444444444444444,\"#bd3786\"],[0.5555555555555556,\"#d8576b\"],[0.6666666666666666,\"#ed7953\"],[0.7777777777777778,\"#fb9f3a\"],[0.8888888888888888,\"#fdca26\"],[1.0,\"#f0f921\"]],\"type\":\"heatmapgl\"}],\"heatmap\":[{\"colorbar\":{\"outlinewidth\":0,\"ticks\":\"\"},\"colorscale\":[[0.0,\"#0d0887\"],[0.1111111111111111,\"#46039f\"],[0.2222222222222222,\"#7201a8\"],[0.3333333333333333,\"#9c179e\"],[0.4444444444444444,\"#bd3786\"],[0.5555555555555556,\"#d8576b\"],[0.6666666666666666,\"#ed7953\"],[0.7777777777777778,\"#fb9f3a\"],[0.8888888888888888,\"#fdca26\"],[1.0,\"#f0f921\"]],\"type\":\"heatmap\"}],\"histogram2dcontour\":[{\"colorbar\":{\"outlinewidth\":0,\"ticks\":\"\"},\"colorscale\":[[0.0,\"#0d0887\"],[0.1111111111111111,\"#46039f\"],[0.2222222222222222,\"#7201a8\"],[0.3333333333333333,\"#9c179e\"],[0.4444444444444444,\"#bd3786\"],[0.5555555555555556,\"#d8576b\"],[0.6666666666666666,\"#ed7953\"],[0.7777777777777778,\"#fb9f3a\"],[0.8888888888888888,\"#fdca26\"],[1.0,\"#f0f921\"]],\"type\":\"histogram2dcontour\"}],\"histogram2d\":[{\"colorbar\":{\"outlinewidth\":0,\"ticks\":\"\"},\"colorscale\":[[0.0,\"#0d0887\"],[0.1111111111111111,\"#46039f\"],[0.2222222222222222,\"#7201a8\"],[0.3333333333333333,\"#9c179e\"],[0.4444444444444444,\"#bd3786\"],[0.5555555555555556,\"#d8576b\"],[0.6666666666666666,\"#ed7953\"],[0.7777777777777778,\"#fb9f3a\"],[0.8888888888888888,\"#fdca26\"],[1.0,\"#f0f921\"]],\"type\":\"histogram2d\"}],\"histogram\":[{\"marker\":{\"pattern\":{\"fillmode\":\"overlay\",\"size\":10,\"solidity\":0.2}},\"type\":\"histogram\"}],\"mesh3d\":[{\"colorbar\":{\"outlinewidth\":0,\"ticks\":\"\"},\"type\":\"mesh3d\"}],\"parcoords\":[{\"line\":{\"colorbar\":{\"outlinewidth\":0,\"ticks\":\"\"}},\"type\":\"parcoords\"}],\"pie\":[{\"automargin\":true,\"type\":\"pie\"}],\"scatter3d\":[{\"line\":{\"colorbar\":{\"outlinewidth\":0,\"ticks\":\"\"}},\"marker\":{\"colorbar\":{\"outlinewidth\":0,\"ticks\":\"\"}},\"type\":\"scatter3d\"}],\"scattercarpet\":[{\"marker\":{\"colorbar\":{\"outlinewidth\":0,\"ticks\":\"\"}},\"type\":\"scattercarpet\"}],\"scattergeo\":[{\"marker\":{\"colorbar\":{\"outlinewidth\":0,\"ticks\":\"\"}},\"type\":\"scattergeo\"}],\"scattergl\":[{\"marker\":{\"colorbar\":{\"outlinewidth\":0,\"ticks\":\"\"}},\"type\":\"scattergl\"}],\"scattermapbox\":[{\"marker\":{\"colorbar\":{\"outlinewidth\":0,\"ticks\":\"\"}},\"type\":\"scattermapbox\"}],\"scatterpolargl\":[{\"marker\":{\"colorbar\":{\"outlinewidth\":0,\"ticks\":\"\"}},\"type\":\"scatterpolargl\"}],\"scatterpolar\":[{\"marker\":{\"colorbar\":{\"outlinewidth\":0,\"ticks\":\"\"}},\"type\":\"scatterpolar\"}],\"scatter\":[{\"fillpattern\":{\"fillmode\":\"overlay\",\"size\":10,\"solidity\":0.2},\"type\":\"scatter\"}],\"scatterternary\":[{\"marker\":{\"colorbar\":{\"outlinewidth\":0,\"ticks\":\"\"}},\"type\":\"scatterternary\"}],\"surface\":[{\"colorbar\":{\"outlinewidth\":0,\"ticks\":\"\"},\"colorscale\":[[0.0,\"#0d0887\"],[0.1111111111111111,\"#46039f\"],[0.2222222222222222,\"#7201a8\"],[0.3333333333333333,\"#9c179e\"],[0.4444444444444444,\"#bd3786\"],[0.5555555555555556,\"#d8576b\"],[0.6666666666666666,\"#ed7953\"],[0.7777777777777778,\"#fb9f3a\"],[0.8888888888888888,\"#fdca26\"],[1.0,\"#f0f921\"]],\"type\":\"surface\"}],\"table\":[{\"cells\":{\"fill\":{\"color\":\"#EBF0F8\"},\"line\":{\"color\":\"white\"}},\"header\":{\"fill\":{\"color\":\"#C8D4E3\"},\"line\":{\"color\":\"white\"}},\"type\":\"table\"}]},\"layout\":{\"annotationdefaults\":{\"arrowcolor\":\"#2a3f5f\",\"arrowhead\":0,\"arrowwidth\":1},\"autotypenumbers\":\"strict\",\"coloraxis\":{\"colorbar\":{\"outlinewidth\":0,\"ticks\":\"\"}},\"colorscale\":{\"diverging\":[[0,\"#8e0152\"],[0.1,\"#c51b7d\"],[0.2,\"#de77ae\"],[0.3,\"#f1b6da\"],[0.4,\"#fde0ef\"],[0.5,\"#f7f7f7\"],[0.6,\"#e6f5d0\"],[0.7,\"#b8e186\"],[0.8,\"#7fbc41\"],[0.9,\"#4d9221\"],[1,\"#276419\"]],\"sequential\":[[0.0,\"#0d0887\"],[0.1111111111111111,\"#46039f\"],[0.2222222222222222,\"#7201a8\"],[0.3333333333333333,\"#9c179e\"],[0.4444444444444444,\"#bd3786\"],[0.5555555555555556,\"#d8576b\"],[0.6666666666666666,\"#ed7953\"],[0.7777777777777778,\"#fb9f3a\"],[0.8888888888888888,\"#fdca26\"],[1.0,\"#f0f921\"]],\"sequentialminus\":[[0.0,\"#0d0887\"],[0.1111111111111111,\"#46039f\"],[0.2222222222222222,\"#7201a8\"],[0.3333333333333333,\"#9c179e\"],[0.4444444444444444,\"#bd3786\"],[0.5555555555555556,\"#d8576b\"],[0.6666666666666666,\"#ed7953\"],[0.7777777777777778,\"#fb9f3a\"],[0.8888888888888888,\"#fdca26\"],[1.0,\"#f0f921\"]]},\"colorway\":[\"#636efa\",\"#EF553B\",\"#00cc96\",\"#ab63fa\",\"#FFA15A\",\"#19d3f3\",\"#FF6692\",\"#B6E880\",\"#FF97FF\",\"#FECB52\"],\"font\":{\"color\":\"#2a3f5f\"},\"geo\":{\"bgcolor\":\"white\",\"lakecolor\":\"white\",\"landcolor\":\"white\",\"showlakes\":true,\"showland\":true,\"subunitcolor\":\"#C8D4E3\"},\"hoverlabel\":{\"align\":\"left\"},\"hovermode\":\"closest\",\"mapbox\":{\"style\":\"light\"},\"paper_bgcolor\":\"white\",\"plot_bgcolor\":\"white\",\"polar\":{\"angularaxis\":{\"gridcolor\":\"#EBF0F8\",\"linecolor\":\"#EBF0F8\",\"ticks\":\"\"},\"bgcolor\":\"white\",\"radialaxis\":{\"gridcolor\":\"#EBF0F8\",\"linecolor\":\"#EBF0F8\",\"ticks\":\"\"}},\"scene\":{\"xaxis\":{\"backgroundcolor\":\"white\",\"gridcolor\":\"#DFE8F3\",\"gridwidth\":2,\"linecolor\":\"#EBF0F8\",\"showbackground\":true,\"ticks\":\"\",\"zerolinecolor\":\"#EBF0F8\"},\"yaxis\":{\"backgroundcolor\":\"white\",\"gridcolor\":\"#DFE8F3\",\"gridwidth\":2,\"linecolor\":\"#EBF0F8\",\"showbackground\":true,\"ticks\":\"\",\"zerolinecolor\":\"#EBF0F8\"},\"zaxis\":{\"backgroundcolor\":\"white\",\"gridcolor\":\"#DFE8F3\",\"gridwidth\":2,\"linecolor\":\"#EBF0F8\",\"showbackground\":true,\"ticks\":\"\",\"zerolinecolor\":\"#EBF0F8\"}},\"shapedefaults\":{\"line\":{\"color\":\"#2a3f5f\"}},\"ternary\":{\"aaxis\":{\"gridcolor\":\"#DFE8F3\",\"linecolor\":\"#A2B1C6\",\"ticks\":\"\"},\"baxis\":{\"gridcolor\":\"#DFE8F3\",\"linecolor\":\"#A2B1C6\",\"ticks\":\"\"},\"bgcolor\":\"white\",\"caxis\":{\"gridcolor\":\"#DFE8F3\",\"linecolor\":\"#A2B1C6\",\"ticks\":\"\"}},\"title\":{\"x\":0.05},\"xaxis\":{\"automargin\":true,\"gridcolor\":\"#EBF0F8\",\"linecolor\":\"#EBF0F8\",\"ticks\":\"\",\"title\":{\"standoff\":15},\"zerolinecolor\":\"#EBF0F8\",\"zerolinewidth\":2},\"yaxis\":{\"automargin\":true,\"gridcolor\":\"#EBF0F8\",\"linecolor\":\"#EBF0F8\",\"ticks\":\"\",\"title\":{\"standoff\":15},\"zerolinecolor\":\"#EBF0F8\",\"zerolinewidth\":2}}},\"geo\":{\"domain\":{\"x\":[0.0,1.0],\"y\":[0.0,1.0]},\"center\":{}},\"coloraxis\":{\"colorbar\":{\"title\":{\"text\":\"World %\"}},\"colorscale\":[[0.0,\"rgb(243, 231, 155)\"],[0.16666666666666666,\"rgb(250, 196, 132)\"],[0.3333333333333333,\"rgb(248, 160, 126)\"],[0.5,\"rgb(235, 127, 134)\"],[0.6666666666666666,\"rgb(206, 102, 147)\"],[0.8333333333333334,\"rgb(160, 89, 160)\"],[1.0,\"rgb(92, 83, 165)\"]]},\"legend\":{\"tracegroupgap\":0},\"title\":{\"text\":\"Percentage of World Population by Country\"}},                        {\"responsive\": true}                    ).then(function(){\n",
       "                            \n",
       "var gd = document.getElementById('3759d720-b752-41c6-b272-722c3d3023dc');\n",
       "var x = new MutationObserver(function (mutations, observer) {{\n",
       "        var display = window.getComputedStyle(gd).display;\n",
       "        if (!display || display === 'none') {{\n",
       "            console.log([gd, 'removed!']);\n",
       "            Plotly.purge(gd);\n",
       "            observer.disconnect();\n",
       "        }}\n",
       "}});\n",
       "\n",
       "// Listen for the removal of the full notebook cells\n",
       "var notebookContainer = gd.closest('#notebook-container');\n",
       "if (notebookContainer) {{\n",
       "    x.observe(notebookContainer, {childList: true});\n",
       "}}\n",
       "\n",
       "// Listen for the clearing of the current output cell\n",
       "var outputEl = gd.closest('.output');\n",
       "if (outputEl) {{\n",
       "    x.observe(outputEl, {childList: true});\n",
       "}}\n",
       "\n",
       "                        })                };                });            </script>        </div>"
      ]
     },
     "metadata": {},
     "output_type": "display_data"
    }
   ],
   "source": [
    "fig = px.choropleth(df, \n",
    "                    locations='Country',\n",
    "                    locationmode='country names',\n",
    "                    color='World %',\n",
    "                    hover_name='Country',\n",
    "                    hover_data=['Population 2024', 'Population 2023', 'Area (km2)', 'Density (/km2)', 'Growth Rate', 'World Rank'],\n",
    "                    color_continuous_scale=px.colors.sequential.Sunset,\n",
    "                    title='Percentage of World Population by Country')\n",
    "fig.update_layout(template='plotly_white')\n",
    "fig.show()"
   ]
  }
 ],
 "metadata": {
  "kaggle": {
   "accelerator": "none",
   "dataSources": [
    {
     "datasetId": 5331522,
     "sourceId": 8856555,
     "sourceType": "datasetVersion"
    }
   ],
   "dockerImageVersionId": 30732,
   "isGpuEnabled": false,
   "isInternetEnabled": true,
   "language": "python",
   "sourceType": "notebook"
  },
  "kernelspec": {
   "display_name": "Python 3",
   "language": "python",
   "name": "python3"
  },
  "language_info": {
   "codemirror_mode": {
    "name": "ipython",
    "version": 3
   },
   "file_extension": ".py",
   "mimetype": "text/x-python",
   "name": "python",
   "nbconvert_exporter": "python",
   "pygments_lexer": "ipython3",
   "version": "3.10.13"
  },
  "papermill": {
   "default_parameters": {},
   "duration": 11.379462,
   "end_time": "2024-07-06T13:03:23.012613",
   "environment_variables": {},
   "exception": null,
   "input_path": "__notebook__.ipynb",
   "output_path": "__notebook__.ipynb",
   "parameters": {},
   "start_time": "2024-07-06T13:03:11.633151",
   "version": "2.5.0"
  }
 },
 "nbformat": 4,
 "nbformat_minor": 5
}
